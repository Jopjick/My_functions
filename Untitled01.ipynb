{
 "cells": [
  {
   "cell_type": "code",
   "execution_count": 7,
   "id": "2f890b26-d8e6-4890-961d-856fd80e44ba",
   "metadata": {},
   "outputs": [
    {
     "name": "stdout",
     "output_type": "stream",
     "text": [
      "$26127\n"
     ]
    }
   ],
   "source": [
    "with open('ledger.txt', 'r') as file:\n",
    "    prices = list(map(lambda x: int(x[1:].strip()), file.readlines()))\n",
    "    print('$'+str(sum(prices)))"
   ]
  },
  {
   "cell_type": "code",
   "execution_count": 13,
   "id": "527753f3-ff0c-485f-a879-fe383cadbb24",
   "metadata": {},
   "outputs": [
    {
     "name": "stdout",
     "output_type": "stream",
     "text": [
      "19\n"
     ]
    }
   ],
   "source": [
    "with open('grades.txt', 'r') as file:\n",
    "    lines = [line.strip().split() for line in file.readlines()]\n",
    "    def f(x):\n",
    "        x = [int(i) for i in x[1:]]\n",
    "        return all(map(lambda y: y >= 65, x))\n",
    "    lines = list(filter(f, lines))\n",
    "    print(len(lines))"
   ]
  },
  {
   "cell_type": "code",
   "execution_count": 24,
   "id": "b24a240f-8ee2-4ff5-ae59-987f9b397228",
   "metadata": {},
   "outputs": [
    {
     "name": "stdout",
     "output_type": "stream",
     "text": [
      "responsibility\n",
      "administration\n",
      "recommendation\n",
      "transportation\n"
     ]
    }
   ],
   "source": [
    "with open('words.txt', 'r') as file:\n",
    "    words = file.read().split()\n",
    "    n = len(max(words, key=lambda x: len(x)))\n",
    "    words = filter(lambda x: len(x) == n, words)\n",
    "    print(*words, sep='\\n')"
   ]
  },
  {
   "cell_type": "code",
   "execution_count": 47,
   "id": "bc356f36-b8ee-4e3d-8be4-e0b9aea8d4bd",
   "metadata": {},
   "outputs": [
    {
     "name": "stdin",
     "output_type": "stream",
     "text": [
      " data.txt\n"
     ]
    }
   ],
   "source": [
    "with open('forbidden_words.txt', 'r') as forb:\n",
    "    forbs = forb.read().strip().split()\n",
    "name = input()\n",
    "with open(name, 'r+') as inp:\n",
    "    s = inp.read()\n",
    "    s_lower = s.lower()\n",
    "    for word in forbs:\n",
    "        s_lower = s_lower.replace(word, '*'*len(word))\n",
    "    inp.seek(0)\n",
    "    for i in range(len(s)):\n",
    "        if s_lower[i] == '*':\n",
    "            print('*', end='', file=inp)\n",
    "        else:\n",
    "            print(s[i], end='', file=inp)"
   ]
  },
  {
   "cell_type": "code",
   "execution_count": 52,
   "id": "13a8c524-4263-4ddd-b8b3-0e28cde5be47",
   "metadata": {},
   "outputs": [],
   "source": [
    "d = {\n",
    "    'а': 'a', 'к': 'k', 'х': 'h', 'б': 'b', 'л': 'l', 'ц': 'c', 'в': 'v', 'м': 'm', 'ч': 'ch',\n",
    "    'г': 'g', 'н': 'n', 'ш': 'sh', 'д': 'd', 'о': 'o', 'щ': 'shh', 'е': 'e', 'п': 'p', 'ъ': '*',\n",
    "    'ё': 'jo', 'р': 'r', 'ы': 'y', 'ж': 'zh', 'с': 's', 'ь': \"'\", 'з': 'z', 'т': 't', 'э': 'je',\n",
    "    'и': 'i', 'у': 'u', 'ю': 'ju', 'й': 'j', 'ф': 'f', 'я': 'ya', 'А': 'A', 'К': 'K', 'Х': 'H', 'Б': 'B', 'Л': 'L',\n",
    "    'Ц': 'C', 'В': 'V', 'М': 'M', 'Ч': 'Ch',\n",
    "    'Г': 'G', 'Н': 'N', 'Ш': 'Sh', 'Д': 'D', 'О': 'O', 'Щ': 'Shh', 'Е': 'E', 'П': 'P', 'Ъ': '*',\n",
    "    'Ё': 'Jo', 'Р': 'R', 'Ы': 'Y', 'Ж': 'Zh', 'С': 'S', 'Ь': \"'\", 'З': 'Z', 'Т': 'T', 'Э': 'Je',\n",
    "    'И': 'I', 'У': 'U', 'Ю': 'Ju', 'Й': 'J', 'Ф': 'F', 'Я': 'Ya'\n",
    "}\n",
    "\n",
    "with open('cyrillic.txt', 'r', encoding='utf-8') as file:\n",
    "    text = file.read()\n",
    "for i in d:\n",
    "    text = text.replace(i, d[i])\n",
    "with open('transliteration.txt', 'w') as fil:\n",
    "    print(text, file=fil)"
   ]
  },
  {
   "cell_type": "code",
   "execution_count": 88,
   "id": "3192a87d-1140-4187-bb26-d50201cb5c88",
   "metadata": {},
   "outputs": [
    {
     "name": "stdout",
     "output_type": "stream",
     "text": [
      "powers\n",
      "matrix\n",
      "mean\n",
      "greet\n"
     ]
    }
   ],
   "source": [
    "with open('funcs.txt', 'r', encoding='utf-8') as funcs:\n",
    "    lines = [line.strip() for line in funcs.readlines()]\n",
    "\n",
    "names = []\n",
    "for i in range(len(lines)):\n",
    "    if lines[i][:4] == 'def ':\n",
    "        if lines[i - 1][:1] != '#':\n",
    "            names.append(lines[i])\n",
    "if len(names) == 0:\n",
    "    print('Best Programming Team')\n",
    "else:\n",
    "    names = list(map(lambda x: x[4:], names))\n",
    "    for name in names:\n",
    "        temp = ''\n",
    "        for i in name:\n",
    "            if i != '(':\n",
    "                temp += i\n",
    "            else:\n",
    "                break\n",
    "        print(temp)"
   ]
  },
  {
   "cell_type": "code",
   "execution_count": null,
   "id": "dafb1a03-75c3-4595-936e-b76c23a8450e",
   "metadata": {},
   "outputs": [],
   "source": []
  }
 ],
 "metadata": {
  "kernelspec": {
   "display_name": "Python 3 (ipykernel)",
   "language": "python",
   "name": "python3"
  },
  "language_info": {
   "codemirror_mode": {
    "name": "ipython",
    "version": 3
   },
   "file_extension": ".py",
   "mimetype": "text/x-python",
   "name": "python",
   "nbconvert_exporter": "python",
   "pygments_lexer": "ipython3",
   "version": "3.9.7"
  }
 },
 "nbformat": 4,
 "nbformat_minor": 5
}
