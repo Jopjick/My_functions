{
 "cells": [
  {
   "cell_type": "code",
   "execution_count": 2,
   "id": "84b96acd-aa04-4593-81d6-75763a2157e7",
   "metadata": {},
   "outputs": [],
   "source": [
    "import pickle\n",
    "\n",
    "dogs = {'Ozzy': 2, 'Filou': 7, 'Luna': 4, 'Skippy': 11, 'Barco': 13, 'Balou': 10, 'Laika': 15}\n",
    "\n",
    "with open('dogs.pkl', mode='wb') as file:\n",
    "    pickle.dump(dogs, file)"
   ]
  },
  {
   "cell_type": "code",
   "execution_count": 12,
   "id": "4856fdde-b08f-44f9-92f7-afd15ffe88eb",
   "metadata": {},
   "outputs": [],
   "source": [
    "def filter_dump(filename, objects, typename):\n",
    "    import pickle\n",
    "    with open(filename, mode='wb') as file:\n",
    "        data = list(filter(lambda x: type(x) == typename, objects))\n",
    "        pickle.dump(data, file)"
   ]
  },
  {
   "cell_type": "code",
   "execution_count": 13,
   "id": "bec2bca8-b714-4c81-97ed-1f5e310429ab",
   "metadata": {},
   "outputs": [],
   "source": [
    "filter_dump('abcd.pkl', [1,2,'4'], int)"
   ]
  },
  {
   "cell_type": "code",
   "execution_count": 20,
   "id": "2164487b-a07b-4a2f-9780-7387998fa4a4",
   "metadata": {},
   "outputs": [
    {
     "name": "stdin",
     "output_type": "stream",
     "text": [
      " aaa.pkl\n",
      " 5\n"
     ]
    },
    {
     "name": "stdout",
     "output_type": "stream",
     "text": [
      "Контрольные суммы не совпадают\n"
     ]
    }
   ],
   "source": [
    "import pickle, sys\n",
    "from functools import reduce\n",
    "data = [input(), input()]\n",
    "with open(data[0], mode='rb') as file:\n",
    "    obj = pickle.load(file)\n",
    "    if type(obj) == list:\n",
    "        obj = list(filter(lambda x: type(x) == int, obj))\n",
    "        if min(obj)*max(obj) == int(data[1]):\n",
    "            print('Контрольные суммы совпадают')\n",
    "        else:\n",
    "            print('Контрольные суммы не совпадают')\n",
    "    elif type(obj) == dict:\n",
    "        obj = list(filter(lambda x: type(x) == int, obj.keys()))\n",
    "        if reduce(lambda x, y: x*y, obj) == int(data[1]):\n",
    "            print('Контрольные суммы совпадают')\n",
    "        else:\n",
    "            print('Контрольные суммы не совпадают')"
   ]
  },
  {
   "cell_type": "code",
   "execution_count": 18,
   "id": "a2fdea22-d806-44d6-a5bd-38f9183ddf14",
   "metadata": {},
   "outputs": [],
   "source": [
    "import pickle\n",
    "with open('aaa.pkl', 'wb') as file:\n",
    "    pickle.dump({1:'', 2:'2', 3:'2', '4':3}, file)"
   ]
  },
  {
   "cell_type": "code",
   "execution_count": 21,
   "id": "09c415a8-e135-4bbe-bea2-778e2f6e7854",
   "metadata": {},
   "outputs": [
    {
     "name": "stdin",
     "output_type": "stream",
     "text": [
      " ab\n",
      " aabbcd\n"
     ]
    },
    {
     "name": "stdout",
     "output_type": "stream",
     "text": [
      "4\n"
     ]
    }
   ],
   "source": [
    "j, s, count = input(), input(), 0\n",
    "for i in j:\n",
    "\tcount += s.count(i)\n",
    "print(count)"
   ]
  },
  {
   "cell_type": "code",
   "execution_count": null,
   "id": "0efcef84-c201-41fa-b575-baa215763c1b",
   "metadata": {},
   "outputs": [],
   "source": []
  }
 ],
 "metadata": {
  "kernelspec": {
   "display_name": "Python 3 (ipykernel)",
   "language": "python",
   "name": "python3"
  },
  "language_info": {
   "codemirror_mode": {
    "name": "ipython",
    "version": 3
   },
   "file_extension": ".py",
   "mimetype": "text/x-python",
   "name": "python",
   "nbconvert_exporter": "python",
   "pygments_lexer": "ipython3",
   "version": "3.9.7"
  }
 },
 "nbformat": 4,
 "nbformat_minor": 5
}
