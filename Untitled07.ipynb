{
 "cells": [
  {
   "cell_type": "code",
   "execution_count": 30,
   "id": "37cff1b4-202f-46cb-b6ff-656682d1cbe9",
   "metadata": {},
   "outputs": [],
   "source": [
    "def condense_csv(filename, id_name):\n",
    "    import csv\n",
    "    with open(filename, 'r', encoding='utf-8') as file:\n",
    "        data, data1 = sorted(list(csv.reader(file)), key=lambda x: x[0]), []\n",
    "    temp_id, temp_obj = data[0][0], {id_name:data[0][0]}\n",
    "    for row in data:\n",
    "        if row[0] == temp_id:\n",
    "            temp_obj[row[1]] = row[2]\n",
    "        else:\n",
    "            data1.append(temp_obj)\n",
    "            temp_id = row[0]\n",
    "            temp_obj = {id_name:row[0], row[1]: row[2]}\n",
    "    else:\n",
    "        data1.append(temp_obj)\n",
    "    columns = data1[0].keys()\n",
    "\n",
    "    with open('condensed.csv', 'w', encoding='utf-8') as file:\n",
    "        writer = csv.DictWriter(file, fieldnames=columns)\n",
    "        writer.writeheader() \n",
    "        for row in data1:                    \n",
    "            writer.writerow(row)"
   ]
  },
  {
   "cell_type": "code",
   "execution_count": 31,
   "id": "4de6fb05-2f86-47cc-af34-921ea683dba2",
   "metadata": {},
   "outputs": [],
   "source": [
    "text = '''01,Artist,Otis Taylor\n",
    "01,Title,Ran So Hard the Sun Went Down\n",
    "01,Time,3:52\n",
    "02,Artist,Waylon Jennings\n",
    "02,Title,Honky Tonk Heroes (Like Me)\n",
    "02,Time,3:29'''\n",
    "\n",
    "with open('data.csv', 'w', encoding='utf-8', newline='') as file:\n",
    "    file.write(text)\n",
    "\n",
    "condense_csv('data.csv', id_name='ID')"
   ]
  },
  {
   "cell_type": "code",
   "execution_count": 54,
   "id": "ec866e20-676d-46f4-b94d-0e5fa7fd117d",
   "metadata": {},
   "outputs": [],
   "source": [
    "def merge(values):\n",
    "    result = {}\n",
    "    for item in values:\n",
    "        for key in item:\n",
    "            if key not in result.keys():\n",
    "                result[key] = set([item[key]])\n",
    "            else:\n",
    "                result[key] = result[key] | set([item[key]])\n",
    "    return result"
   ]
  },
  {
   "cell_type": "code",
   "execution_count": 55,
   "id": "c03797f6-dbd9-4824-ab67-352a7f7dae05",
   "metadata": {},
   "outputs": [],
   "source": [
    "result = merge([{'a': 1, 'b': 2}, {'b': 10, 'c': 100}, {'a': 1, 'b': 17, 'c': 50}, {'a': 5, 'd': 777}])"
   ]
  },
  {
   "cell_type": "code",
   "execution_count": 94,
   "id": "0344c95a-0d19-4367-a6f4-2f3190c4a0d0",
   "metadata": {},
   "outputs": [],
   "source": [
    "import csv\n",
    "with open('student_counts.csv', 'r', encoding='utf-8') as file:\n",
    "    reader = csv.DictReader(file)\n",
    "    data = list(reader)\n",
    "    names = list(map(lambda x: x[0] + '-' + x[1], sorted([i.split('-') for i in reader.fieldnames[1:]], key=lambda x: (int(x[0]), x[1]))))\n",
    "names_n = ['year']\n",
    "names_n.extend(names)\n",
    "\n",
    "with open('sorted_student_counts.csv', 'w', encoding='utf-8', newline='') as file:\n",
    "    writer = csv.DictWriter(file, fieldnames=names_n)\n",
    "    writer.writeheader()\n",
    "    for row in data:\n",
    "        writer.writerow(row)"
   ]
  },
  {
   "cell_type": "code",
   "execution_count": 113,
   "id": "d7687822-54af-4160-978a-e9c839dedccf",
   "metadata": {},
   "outputs": [
    {
     "name": "stdout",
     "output_type": "stream",
     "text": [
      "Вареники: Дикси\n"
     ]
    }
   ],
   "source": [
    "import csv\n",
    "with open('prices.csv', 'r', encoding='utf-8') as file:\n",
    "    data = csv.DictReader(file, delimiter=';')\n",
    "    data1 = []\n",
    "    for item in data:\n",
    "        name = item.pop('Магазин')\n",
    "        min_k = min(item, key=lambda x: int(item[x]))\n",
    "        data1.append([name, min_k, item[min_k]])\n",
    "min_p = min(data1, key=lambda x: int(x[2]))\n",
    "print(f'{min_p[1]}: {min_p[0]}')"
   ]
  },
  {
   "cell_type": "code",
   "execution_count": 116,
   "id": "84d37888-e695-4cdc-bb9f-55e1b955331e",
   "metadata": {},
   "outputs": [
    {
     "name": "stdout",
     "output_type": "stream",
     "text": [
      "{'true': 97, '2': \"I've been running for a reason\", '3': ['I', 'could', 'never', 'retain'], '4': ['Sweet', 'lips', 'like', 'pink', 'lemonade'], '5.0': \"When he's feeling generous he's gonna give me a taste\", 'six': '10'}\n"
     ]
    }
   ],
   "source": [
    "import json\n",
    "\n",
    "lines = {\n",
    "         True: 97,\n",
    "         2: \"I've been running for a reason\",\n",
    "         \"3\": (\"I\", \"could\", \"never\", \"retain\"),\n",
    "         4: [\"Sweet\", \"lips\", \"like\", \"pink\", \"lemonade\"],\n",
    "         5.0: \"When he's feeling generous he's gonna give me a taste\",\n",
    "         \"six\": \"10\"\n",
    "        }\n",
    "\n",
    "lines_json = json.dumps(lines)\n",
    "\n",
    "lines = json.loads(lines_json)\n",
    "print(lines)"
   ]
  },
  {
   "cell_type": "code",
   "execution_count": 119,
   "id": "14f121f7-881b-4303-8dc2-535b9ba0e69b",
   "metadata": {},
   "outputs": [
    {
     "name": "stdout",
     "output_type": "stream",
     "text": [
      "true <class 'str'> 97 <class 'int'>\n",
      "2 <class 'str'> I've been running for a reason <class 'str'>\n",
      "3 <class 'str'> ['I', 'could', 'never', 'retain'] <class 'list'>\n",
      "4 <class 'str'> ['Sweet', 'lips', 'like', 'pink', 'lemonade'] <class 'list'>\n",
      "5.0 <class 'str'> When he's feeling generous he's gonna give me a taste <class 'str'>\n",
      "six <class 'str'> 10 <class 'str'>\n"
     ]
    }
   ],
   "source": [
    "for key in lines:\n",
    "    print(key, type(key), lines[key], type(lines[key]))"
   ]
  },
  {
   "cell_type": "code",
   "execution_count": 123,
   "id": "def5b863-bab8-46e0-a773-b682876e767b",
   "metadata": {},
   "outputs": [
    {
     "name": "stdout",
     "output_type": "stream",
     "text": [
      "{\n",
      "   \"Angola\" - \"Luanda\",\n",
      "   \"Australia\" - \"Canberra\",\n",
      "   \"Canada\" - \"Ottawa\",\n",
      "   \"Colombia\" - \"Bogota\",\n",
      "   \"Costa Rica\" - \"San Jose\",\n",
      "   \"Cuba\" - \"Havana\",\n",
      "   \"Finland\" - \"Helsinki\",\n",
      "   \"France\" - \"Paris\",\n",
      "   \"Gabon\" - \"Libreville\",\n",
      "   \"Iceland\" - \"Reykjavik\",\n",
      "   \"India\" - \"New Delhi\",\n",
      "   \"Kazakhstan\" - \"Nur-Sultan\",\n",
      "   \"Kenya\" - \"Nairobi\",\n",
      "   \"Liberia\" - \"Monrovia\",\n",
      "   \"Mali\" - \"Bamako\",\n",
      "   \"Monaco\" - \"Monaco\"\n",
      "}\n"
     ]
    }
   ],
   "source": [
    "import json\n",
    "\n",
    "countries = {'Monaco': 'Monaco', 'Iceland': 'Reykjavik', 'Kenya': 'Nairobi', 'Kazakhstan': 'Nur-Sultan',\n",
    "             'Mali': 'Bamako', 'Colombia': 'Bogota', 'Finland': 'Helsinki', 'Costa Rica': 'San Jose',\n",
    "             'Cuba': 'Havana', 'France': 'Paris', 'Gabon': 'Libreville', 'Liberia': 'Monrovia',\n",
    "             'Angola': 'Luanda', 'India': 'New Delhi', 'Canada': 'Ottawa', 'Australia': 'Canberra'}\n",
    "counrtr_json = json.dumps(countries, indent=3, separators= (',', ' - '), sort_keys=True)\n",
    "print(counrtr_json)"
   ]
  },
  {
   "cell_type": "code",
   "execution_count": 124,
   "id": "84665966-0046-4cf9-b3a2-5f6cf308c786",
   "metadata": {},
   "outputs": [
    {
     "name": "stdout",
     "output_type": "stream",
     "text": [
      "{\"travel\": \"tr\\u00e6vl\", \"moonlight\": \"mu\\u02d0n.la\\u026at\", \"sunshine\": \"\\u02c8s\\u028cn.\\u0283a\\u026an\", \"adventure\": \"\\u0259d\\u02c8vent\\u0283\\u0259r\", \"beautiful\": \"\\u02c8bju\\u02d0t\\u026afl\", \"bicycle\": \"baisikl\"}\n"
     ]
    }
   ],
   "source": [
    "import json\n",
    "\n",
    "words = {\n",
    "         frozenset([\"tap\", \"telephone\"]): (\"tæp\", \"telifəun\"),\n",
    "         \"travel\": \"trævl\",\n",
    "         (\"hello\", \"world\"): (\"həˈləʊ\", \"wɜːld\"),\n",
    "         \"moonlight\": \"muːn.laɪt\",\n",
    "         \"sunshine\": \"ˈsʌn.ʃaɪn\",\n",
    "         (\"why\", \"is\", \"so\", \"difficult\"): (\"waɪ\", \"ɪz\", \"səʊ\", \"ˈdɪfɪkəlt\"),\n",
    "         \"adventure\": \"ədˈventʃər\",\n",
    "         \"beautiful\": \"ˈbjuːtɪfl\",\n",
    "         frozenset([\"spoon\", \"block\"]): (\"spu:n\", \"blɔk\"),\n",
    "         \"bicycle\": \"baisikl\",\n",
    "         (\"pilot\", \"fly\"): (\"pailət\", \"flai\")\n",
    "        }\n",
    "\n",
    "data_json = json.dumps(words, skipkeys=True)\n",
    "print(data_json)"
   ]
  },
  {
   "cell_type": "code",
   "execution_count": 126,
   "id": "df0322c9-6386-4112-94cb-9cf2cc1232f8",
   "metadata": {},
   "outputs": [],
   "source": [
    "import json\n",
    "\n",
    "club1 = {\"name\": \"FC Byern Munchen\", \"country\": \"Germany\", \"founded\": 1900,\n",
    "         \"trainer\": \"Julian Nagelsmann\", \"goalkeeper\": \"M. Neuer\", \"league_position\": 1}\n",
    "\n",
    "club2 = {\"name\": \"FC Barcelona\", \"country\": \"Spain\", \"founded\": 1899,\n",
    "         \"trainer\": \"Xavier Creus\", \"goalkeeper\": \"M. Ter Stegen\", \"league_position\": 7}\n",
    "\n",
    "club3 = {\"name\": \"FC Manchester United\", \"country\": \"England\", \"founded\": 1878,\n",
    "         \"trainer\": \"Michael Carrick\", \"goalkeeper\": \"D. De Gea\", \"league_position\": 8}\n",
    "data = [club1, club2, club3]\n",
    "with open('data.json', 'w') as file:\n",
    "    json.dump(data, file, indent=3)"
   ]
  },
  {
   "cell_type": "code",
   "execution_count": 128,
   "id": "c0042b62-c9f9-44df-82eb-9032679fbf56",
   "metadata": {},
   "outputs": [
    {
     "name": "stdout",
     "output_type": "stream",
     "text": [
      "{\n",
      "   \"Модель\": \"AMD Ryzen 5 5600G\",\n",
      "   \"Год релиза\": 2021,\n",
      "   \"Сокет\": \"AM4\",\n",
      "   \"Техпроцесс\": \"7 нм\",\n",
      "   \"Ядро\": \"Cezanne\",\n",
      "   \"Объем кэша L2\": \"3 МБ\",\n",
      "   \"Объем кэша L3\": \"16 МБ\",\n",
      "   \"Базовая частота\": \"3900 МГц\"\n",
      "}\n"
     ]
    }
   ],
   "source": [
    "import json\n",
    "\n",
    "specs = {\n",
    "         'Модель': 'AMD Ryzen 5 5600G',\n",
    "         'Год релиза': 2021,\n",
    "         'Сокет': 'AM4',\n",
    "         'Техпроцесс': '7 нм',\n",
    "         'Ядро': 'Cezanne',\n",
    "         'Объем кэша L2': '3 МБ',\n",
    "         'Объем кэша L3': '16 МБ',\n",
    "         'Базовая частота': '3900 МГц'\n",
    "        }\n",
    "\n",
    "specs_json = json.dumps(specs, ensure_ascii=False, indent=3)\n",
    "\n",
    "print(specs_json)"
   ]
  },
  {
   "cell_type": "code",
   "execution_count": 142,
   "id": "198c8c99-6a0a-41d5-9757-bac820bd027a",
   "metadata": {},
   "outputs": [],
   "source": [
    "import json\n",
    "with open('data.json', 'r') as file:\n",
    "    data = json.load(file)\n",
    "data1 = []\n",
    "for item in data:\n",
    "    if type(item) == bool:\n",
    "        data1.append(not item)\n",
    "    elif type(item) == str:\n",
    "        data1.append(item + '!')\n",
    "    elif type(item) == float or type(item) == int:\n",
    "        data1.append(item + 1)\n",
    "    elif type(item) == list:\n",
    "        data1.append(item*2)\n",
    "    elif type(item) == dict:\n",
    "        item['newkey'] = None\n",
    "        data1.append(item)\n",
    "    elif type(item) == None:\n",
    "        pass\n",
    "with open('updated_data.json', 'w') as file:\n",
    "    json.dump(data1, file)"
   ]
  },
  {
   "cell_type": "code",
   "execution_count": 5,
   "id": "ede6b1c3-fde6-421a-8ee0-f5bf32500f6e",
   "metadata": {},
   "outputs": [],
   "source": [
    "import json\n",
    "with open('data1.json', 'r', encoding='utf-8') as file1, open('data2.json', 'r', encoding='utf-8') as file2:\n",
    "    data1, data2 = json.load(file1), json.load(file2)\n",
    "data1.update(data2)\n",
    "with open('data_merge.json', 'w', encoding='utf-8') as file:\n",
    "    json.dump(data1, file)"
   ]
  },
  {
   "cell_type": "code",
   "execution_count": 18,
   "id": "ccf70c76-0d2e-43d8-a22f-09f73be6e5d4",
   "metadata": {},
   "outputs": [],
   "source": [
    "import json\n",
    "with open('people.json', 'r', encoding='utf-8') as file:\n",
    "    data = json.load(file)\n",
    "keys = list(max(data, key=lambda x: len(x)).keys())\n",
    "for item in data:\n",
    "    for key in keys:\n",
    "        if key not in item.keys():\n",
    "            item[key] = None\n",
    "with open('updated_people.json', 'w', encoding='utf-8') as file:\n",
    "    json.dump(data, file)"
   ]
  },
  {
   "cell_type": "code",
   "execution_count": 30,
   "id": "477c8f3b-bb73-4cd1-8245-4ab3007beeb2",
   "metadata": {},
   "outputs": [],
   "source": [
    "import json\n",
    "with open('countries.json', 'r', encoding='utf-8') as file:\n",
    "    data0 = json.load(file)\n",
    "data = {}\n",
    "for item in data0:\n",
    "    if item['religion'] not in data.keys():\n",
    "        data[item['religion']] = [item['country']]\n",
    "    else:\n",
    "        data[item['religion']].append(item['country'])\n",
    "with open('religion.json', 'w', encoding='utf-8') as file:\n",
    "    json.dump(data, file)"
   ]
  },
  {
   "cell_type": "code",
   "execution_count": 64,
   "id": "4cbb55ed-92e2-4183-9b28-69fee1bd3125",
   "metadata": {},
   "outputs": [],
   "source": [
    "import csv, json\n",
    "\n",
    "with open('playgrounds.csv', 'r', encoding='utf-8') as file:\n",
    "    data = list(csv.DictReader(file, delimiter=';'))\n",
    "result = {}\n",
    "\n",
    "for item in data:\n",
    "    if item['AdmArea'] not in result.keys():\n",
    "        result[item['AdmArea']] = {item['District']:[item['Address']]}\n",
    "    else:\n",
    "        if item['District'] not in result[item['AdmArea']].keys():\n",
    "            result[item['AdmArea']][item['District']] = [item['Address']]\n",
    "        else:\n",
    "            result[item['AdmArea']][item['District']].append(item['Address'])\n",
    "            \n",
    "with open('addresses.json ', 'w', encoding='utf-8') as file:\n",
    "    json.dump(result, file, indent=3, ensure_ascii=False)"
   ]
  },
  {
   "cell_type": "code",
   "execution_count": null,
   "id": "393c81ae-1f2a-4f8f-a521-6ab4bd552503",
   "metadata": {},
   "outputs": [],
   "source": []
  }
 ],
 "metadata": {
  "kernelspec": {
   "display_name": "Python 3 (ipykernel)",
   "language": "python",
   "name": "python3"
  },
  "language_info": {
   "codemirror_mode": {
    "name": "ipython",
    "version": 3
   },
   "file_extension": ".py",
   "mimetype": "text/x-python",
   "name": "python",
   "nbconvert_exporter": "python",
   "pygments_lexer": "ipython3",
   "version": "3.9.7"
  }
 },
 "nbformat": 4,
 "nbformat_minor": 5
}
