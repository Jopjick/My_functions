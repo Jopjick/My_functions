{
 "cells": [
  {
   "cell_type": "code",
   "execution_count": 8,
   "id": "b6e6ee02-afa4-4291-b104-68249787d972",
   "metadata": {},
   "outputs": [],
   "source": [
    "def get_the_fastest_func(funcs, arg):\n",
    "    import time\n",
    "    res = {}\n",
    "    for func in funcs:\n",
    "        start = time.monotonic()\n",
    "        f = func(arg)\n",
    "        end = time.monotonic()\n",
    "        res[func] = end - start\n",
    "    return min(res, key=lambda x: res[x])"
   ]
  },
  {
   "cell_type": "code",
   "execution_count": 10,
   "id": "1939cc35-dabe-4a24-ac2a-6c44cd1591b2",
   "metadata": {},
   "outputs": [
    {
     "name": "stdout",
     "output_type": "stream",
     "text": [
      "<function fast at 0x00000197FF5D6670>\n"
     ]
    }
   ],
   "source": [
    "import time\n",
    "def slow(arg):\n",
    "    time.sleep(2)\n",
    "\n",
    "def fast(arg):\n",
    "    time.sleep(1)\n",
    "\n",
    "funcs = [slow, fast]\n",
    "\n",
    "print(get_the_fastest_func(funcs, 0))"
   ]
  },
  {
   "cell_type": "code",
   "execution_count": 15,
   "id": "e84aa74d-3d46-4139-8d4d-981d350b1612",
   "metadata": {},
   "outputs": [
    {
     "name": "stdout",
     "output_type": "stream",
     "text": [
      "                                  2021\n",
      "\n",
      "       Январь                   Февраль                     Март\n",
      "Пн Вт Ср Чт Пт Сб Вс      Пн Вт Ср Чт Пт Сб Вс      Пн Вт Ср Чт Пт Сб Вс\n",
      "             1  2  3       1  2  3  4  5  6  7       1  2  3  4  5  6  7\n",
      " 4  5  6  7  8  9 10       8  9 10 11 12 13 14       8  9 10 11 12 13 14\n",
      "11 12 13 14 15 16 17      15 16 17 18 19 20 21      15 16 17 18 19 20 21\n",
      "18 19 20 21 22 23 24      22 23 24 25 26 27 28      22 23 24 25 26 27 28\n",
      "25 26 27 28 29 30 31                                29 30 31\n",
      "\n",
      "       Апрель                     Май                       Июнь\n",
      "Пн Вт Ср Чт Пт Сб Вс      Пн Вт Ср Чт Пт Сб Вс      Пн Вт Ср Чт Пт Сб Вс\n",
      "          1  2  3  4                      1  2          1  2  3  4  5  6\n",
      " 5  6  7  8  9 10 11       3  4  5  6  7  8  9       7  8  9 10 11 12 13\n",
      "12 13 14 15 16 17 18      10 11 12 13 14 15 16      14 15 16 17 18 19 20\n",
      "19 20 21 22 23 24 25      17 18 19 20 21 22 23      21 22 23 24 25 26 27\n",
      "26 27 28 29 30            24 25 26 27 28 29 30      28 29 30\n",
      "                          31\n",
      "\n",
      "        Июль                     Август                   Сентябрь\n",
      "Пн Вт Ср Чт Пт Сб Вс      Пн Вт Ср Чт Пт Сб Вс      Пн Вт Ср Чт Пт Сб Вс\n",
      "          1  2  3  4                         1             1  2  3  4  5\n",
      " 5  6  7  8  9 10 11       2  3  4  5  6  7  8       6  7  8  9 10 11 12\n",
      "12 13 14 15 16 17 18       9 10 11 12 13 14 15      13 14 15 16 17 18 19\n",
      "19 20 21 22 23 24 25      16 17 18 19 20 21 22      20 21 22 23 24 25 26\n",
      "26 27 28 29 30 31         23 24 25 26 27 28 29      27 28 29 30\n",
      "                          30 31\n",
      "\n",
      "      Октябрь                    Ноябрь                   Декабрь\n",
      "Пн Вт Ср Чт Пт Сб Вс      Пн Вт Ср Чт Пт Сб Вс      Пн Вт Ср Чт Пт Сб Вс\n",
      "             1  2  3       1  2  3  4  5  6  7             1  2  3  4  5\n",
      " 4  5  6  7  8  9 10       8  9 10 11 12 13 14       6  7  8  9 10 11 12\n",
      "11 12 13 14 15 16 17      15 16 17 18 19 20 21      13 14 15 16 17 18 19\n",
      "18 19 20 21 22 23 24      22 23 24 25 26 27 28      20 21 22 23 24 25 26\n",
      "25 26 27 28 29 30 31      29 30                     27 28 29 30 31\n",
      "\n"
     ]
    }
   ],
   "source": [
    "import calendar, locale\n",
    "\n",
    "locale.setlocale(locale.LC_ALL, 'ru_RU.UTF-8')\n",
    "\n",
    "print(calendar.calendar(2021, m=3))"
   ]
  },
  {
   "cell_type": "code",
   "execution_count": 37,
   "id": "4c561ee4-8b14-482c-b1e1-3b96b7ef2420",
   "metadata": {},
   "outputs": [
    {
     "name": "stdout",
     "output_type": "stream",
     "text": [
      "(2, 31)\n",
      "[datetime.date(2021, 12, 1), datetime.date(2021, 12, 2), datetime.date(2021, 12, 3), datetime.date(2021, 12, 4), datetime.date(2021, 12, 5), datetime.date(2021, 12, 6), datetime.date(2021, 12, 7), datetime.date(2021, 12, 8), datetime.date(2021, 12, 9), datetime.date(2021, 12, 10), datetime.date(2021, 12, 11), datetime.date(2021, 12, 12), datetime.date(2021, 12, 13), datetime.date(2021, 12, 14), datetime.date(2021, 12, 15), datetime.date(2021, 12, 16), datetime.date(2021, 12, 17), datetime.date(2021, 12, 18), datetime.date(2021, 12, 19), datetime.date(2021, 12, 20), datetime.date(2021, 12, 21), datetime.date(2021, 12, 22), datetime.date(2021, 12, 23), datetime.date(2021, 12, 24), datetime.date(2021, 12, 25), datetime.date(2021, 12, 26), datetime.date(2021, 12, 27), datetime.date(2021, 12, 28), datetime.date(2021, 12, 29), datetime.date(2021, 12, 30), datetime.date(2021, 12, 31)]\n"
     ]
    }
   ],
   "source": [
    "def get_days_in_month(year, name):\n",
    "    import calendar, locale\n",
    "    from datetime import date\n",
    "    locale.setlocale(locale.LC_ALL, 'en_EN.UTF-8')\n",
    "    n = list(calendar.month_name).index(name)\n",
    "    m = calendar.monthrange(year, n)\n",
    "    print(m)\n",
    "    return [date(year, n, i) for i in range(1, m[1] + 1)]\n"
   ]
  },
  {
   "cell_type": "code",
   "execution_count": 34,
   "id": "707491d5-cbdd-49ed-be48-43c80ce4ff46",
   "metadata": {},
   "outputs": [
    {
     "name": "stdout",
     "output_type": "stream",
     "text": [
      "12\n",
      "(2, 31)\n"
     ]
    }
   ],
   "source": [
    "print(list(calendar.month_name).index('December'))\n",
    "print(calendar.monthrange(2021, list(calendar.month_name).index('December')))"
   ]
  },
  {
   "cell_type": "code",
   "execution_count": 13,
   "id": "b3efb137-3593-49cd-a425-308105f1010b",
   "metadata": {},
   "outputs": [],
   "source": [
    "def get_all_mondays(year):\n",
    "    from datetime import date, timedelta\n",
    "    import calendar\n",
    "    start, end = date(year, 1, 1), date(year + 1, 1, 1)\n",
    "    temp, delt, result = start, timedelta(days=1), []\n",
    "    while temp < end:\n",
    "        if calendar.weekday(temp.year, temp.month, temp.day) == 0:\n",
    "            delt = timedelta(days=7)\n",
    "            result.append(temp)\n",
    "        temp = temp + delt\n",
    "    return result"
   ]
  },
  {
   "cell_type": "code",
   "execution_count": 14,
   "id": "08d677f6-99e3-4ddb-b904-a17d47ccce5c",
   "metadata": {},
   "outputs": [
    {
     "name": "stdout",
     "output_type": "stream",
     "text": [
      "[datetime.date(1989, 1, 2), datetime.date(1989, 1, 9), datetime.date(1989, 1, 16), datetime.date(1989, 1, 23), datetime.date(1989, 1, 30), datetime.date(1989, 2, 6), datetime.date(1989, 2, 13), datetime.date(1989, 2, 20), datetime.date(1989, 2, 27), datetime.date(1989, 3, 6), datetime.date(1989, 3, 13), datetime.date(1989, 3, 20), datetime.date(1989, 3, 27), datetime.date(1989, 4, 3), datetime.date(1989, 4, 10), datetime.date(1989, 4, 17), datetime.date(1989, 4, 24), datetime.date(1989, 5, 1), datetime.date(1989, 5, 8), datetime.date(1989, 5, 15), datetime.date(1989, 5, 22), datetime.date(1989, 5, 29), datetime.date(1989, 6, 5), datetime.date(1989, 6, 12), datetime.date(1989, 6, 19), datetime.date(1989, 6, 26), datetime.date(1989, 7, 3), datetime.date(1989, 7, 10), datetime.date(1989, 7, 17), datetime.date(1989, 7, 24), datetime.date(1989, 7, 31), datetime.date(1989, 8, 7), datetime.date(1989, 8, 14), datetime.date(1989, 8, 21), datetime.date(1989, 8, 28), datetime.date(1989, 9, 4), datetime.date(1989, 9, 11), datetime.date(1989, 9, 18), datetime.date(1989, 9, 25), datetime.date(1989, 10, 2), datetime.date(1989, 10, 9), datetime.date(1989, 10, 16), datetime.date(1989, 10, 23), datetime.date(1989, 10, 30), datetime.date(1989, 11, 6), datetime.date(1989, 11, 13), datetime.date(1989, 11, 20), datetime.date(1989, 11, 27), datetime.date(1989, 12, 4), datetime.date(1989, 12, 11), datetime.date(1989, 12, 18), datetime.date(1989, 12, 25)]\n"
     ]
    }
   ],
   "source": [
    "print(get_all_mondays(1989))"
   ]
  },
  {
   "cell_type": "code",
   "execution_count": null,
   "id": "84975283-e806-4d7f-99f3-730600e54b7a",
   "metadata": {},
   "outputs": [],
   "source": []
  },
  {
   "cell_type": "code",
   "execution_count": null,
   "id": "cbd15774-5f68-412e-99b4-f92311555cab",
   "metadata": {},
   "outputs": [],
   "source": []
  }
 ],
 "metadata": {
  "kernelspec": {
   "display_name": "Python 3 (ipykernel)",
   "language": "python",
   "name": "python3"
  },
  "language_info": {
   "codemirror_mode": {
    "name": "ipython",
    "version": 3
   },
   "file_extension": ".py",
   "mimetype": "text/x-python",
   "name": "python",
   "nbconvert_exporter": "python",
   "pygments_lexer": "ipython3",
   "version": "3.9.7"
  }
 },
 "nbformat": 4,
 "nbformat_minor": 5
}
