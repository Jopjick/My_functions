{
 "cells": [
  {
   "cell_type": "code",
   "execution_count": 16,
   "id": "037007a9-688f-4111-93c7-1750ae813588",
   "metadata": {},
   "outputs": [
    {
     "name": "stdout",
     "output_type": "stream",
     "text": [
      "для указания внезапной остановки повествования;\n"
     ]
    }
   ],
   "source": [
    "file = open('lines.txt', 'rt', encoding='utf-8')\n",
    "from random import choice\n",
    "lines = [line.rstrip() for line in file.readlines()]\n",
    "print(choice(lines))\n",
    "file.close()"
   ]
  },
  {
   "cell_type": "code",
   "execution_count": 18,
   "id": "72bf8cba-896d-47c0-881a-ceb37e8165f8",
   "metadata": {},
   "outputs": [
    {
     "name": "stdout",
     "output_type": "stream",
     "text": [
      "491000626\n"
     ]
    }
   ],
   "source": [
    "file = open('numbers.txt', 'rt')\n",
    "print(sum([int(num) for num in file.readlines()]))\n",
    "file.close()"
   ]
  },
  {
   "cell_type": "code",
   "execution_count": 20,
   "id": "c6ea8662-e55d-4ce6-a977-07e43f720745",
   "metadata": {},
   "outputs": [
    {
     "name": "stdout",
     "output_type": "stream",
     "text": [
      "453491626\n"
     ]
    }
   ],
   "source": [
    "file = open('nums.txt', 'rt')\n",
    "print(sum([int(i) for i in file.read().split()]))"
   ]
  },
  {
   "cell_type": "code",
   "execution_count": 22,
   "id": "96ca817d-45db-4c70-a906-19702ce82c9a",
   "metadata": {},
   "outputs": [
    {
     "name": "stdout",
     "output_type": "stream",
     "text": [
      "1286800\n"
     ]
    }
   ],
   "source": [
    "file = open('prices.txt', 'rt')\n",
    "lines = [line.rstrip().split() for line in file.readlines()]\n",
    "price = 0\n",
    "for line in lines:\n",
    "    price += int(line[1]) * int(line[2])\n",
    "print(price)\n",
    "file.close()"
   ]
  },
  {
   "cell_type": "code",
   "execution_count": 1,
   "id": "2f8c4500-d356-4f5d-98ed-ffbd1639b409",
   "metadata": {},
   "outputs": [
    {
     "name": "stdout",
     "output_type": "stream",
     "text": [
      "Repeat after me: pop\n",
      "goes!\n",
      "the!\n",
      "weasel!!\n"
     ]
    }
   ],
   "source": [
    "with open('input.txt', encoding='utf-8') as file:\n",
    "    print('Repeat after me:', file.readline().strip())\n",
    "    for line in file:\n",
    "        print(line.strip() + '!')"
   ]
  },
  {
   "cell_type": "code",
   "execution_count": 5,
   "id": "606dd9b1-b75c-453a-bf19-165f37782100",
   "metadata": {},
   "outputs": [
    {
     "name": "stdout",
     "output_type": "stream",
     "text": [
      ".enil hcae fo rettel tsrif eht tuo tnirp dna txt.egassem_terces daeR\n"
     ]
    }
   ],
   "source": [
    "with open('text.txt', 'rt', encoding='utf-8')as text:\n",
    "        print(text.read()[::-1])"
   ]
  },
  {
   "cell_type": "code",
   "execution_count": 7,
   "id": "d401c0dc-7b4b-43e3-be2b-274ca51af9a0",
   "metadata": {},
   "outputs": [
    {
     "name": "stdout",
     "output_type": "stream",
     "text": [
      "Complex is better than complicated.\n",
      "Simple is better than complex.\n",
      "Explicit is better than implicit.\n",
      "Beautiful is better than ugly.\n"
     ]
    }
   ],
   "source": [
    "with open('data.txt', 'rt') as data:\n",
    "    for line in [line.rstrip() for line in data.readlines()[::-1]]:\n",
    "        print(line)"
   ]
  },
  {
   "cell_type": "code",
   "execution_count": 14,
   "id": "e378b27e-ab7e-415c-bd91-72bb94920925",
   "metadata": {},
   "outputs": [
    {
     "name": "stdout",
     "output_type": "stream",
     "text": [
      "Twenty one\n",
      "Twenty two\n"
     ]
    }
   ],
   "source": [
    "with open('lines.txt','rt') as file:\n",
    "    lines = [line.rstrip() for line in file.readlines()]\n",
    "    max_len = len(max(lines, key=len))\n",
    "    print(*filter(lambda x: len(x)==max_len, lines), sep='\\n')"
   ]
  },
  {
   "cell_type": "code",
   "execution_count": 10,
   "id": "714861d7-7f4d-459b-b813-b80047b8ecfe",
   "metadata": {},
   "outputs": [
    {
     "name": "stdout",
     "output_type": "stream",
     "text": [
      "3\n",
      "7\n",
      "8\n"
     ]
    }
   ],
   "source": [
    "with open('numbers.txt', 'rt') as file:\n",
    "    line = file.readline().strip().split()\n",
    "    from functools import reduce\n",
    "    while line != []:\n",
    "        print(reduce(lambda x, y: x + y, map(lambda x: int(x), line)))\n",
    "        line = file.readline().strip().split()"
   ]
  },
  {
   "cell_type": "code",
   "execution_count": 23,
   "id": "4aab6541-83c0-4352-a222-342e56d28bb1",
   "metadata": {
    "tags": []
   },
   "outputs": [
    {
     "name": "stdout",
     "output_type": "stream",
     "text": [
      "680\n"
     ]
    }
   ],
   "source": [
    "with open('nums.txt', 'rt') as file:\n",
    "    res = ''\n",
    "    text = file.read()\n",
    "    for i in text:\n",
    "        if i.isdigit():\n",
    "            res += i\n",
    "        else:\n",
    "            res += ' '\n",
    "    from functools import reduce\n",
    "    res = reduce(lambda x, y: x + y, [int(num) for num in res.strip().split()])\n",
    "    print(res)"
   ]
  },
  {
   "cell_type": "code",
   "execution_count": 32,
   "id": "f0888215-02f1-4574-9cea-c0fbc7a6f501",
   "metadata": {},
   "outputs": [
    {
     "name": "stdout",
     "output_type": "stream",
     "text": [
      "Input file contains:\n",
      "1069 letters \n",
      "229 words \n",
      "12 lines\n"
     ]
    }
   ],
   "source": [
    "with open('file.txt', 'rt') as file:\n",
    "    text = file.read()\n",
    "    res = [0, 1, 1]\n",
    "    for i in text:\n",
    "        if i.isalpha():\n",
    "            res[0] += 1\n",
    "        elif i == ' ':\n",
    "            res[1] += 1\n",
    "        elif i == '\\n':\n",
    "            res[2] += 1\n",
    "            res[1] += 1\n",
    "    print(f'''Input file contains:\n",
    "{res[0]} letters \n",
    "{res[1]} words \n",
    "{res[2]} lines''' )\n",
    "    "
   ]
  },
  {
   "cell_type": "code",
   "execution_count": 39,
   "id": "f0d62e44-146d-403c-b9f5-34f12b6cc77f",
   "metadata": {},
   "outputs": [
    {
     "name": "stdout",
     "output_type": "stream",
     "text": [
      "Britt Torrence\n",
      "Broderick Swartz\n",
      "Abdul Swafford\n"
     ]
    }
   ],
   "source": [
    "with open('first_names.txt', 'rt') as names, open('last_names.txt', 'rt') as surnames:\n",
    "    from random import choice\n",
    "    f_names = [name.strip() for name in names.readlines()]\n",
    "    l_names = [name.strip() for name in surnames.readlines()]\n",
    "    for i in range(3):\n",
    "        print(choice(f_names), choice(l_names))"
   ]
  },
  {
   "cell_type": "code",
   "execution_count": 48,
   "id": "4e4a6fb0-205d-4b6b-b4ab-3b3eb792330e",
   "metadata": {},
   "outputs": [
    {
     "name": "stdout",
     "output_type": "stream",
     "text": [
      "Germany\n",
      "Ghana\n",
      "Guatemala\n",
      "Greece\n",
      "Guinea\n",
      "Georgia\n",
      "Guinea-Bissau\n",
      "Gabon\n",
      "Guyana\n"
     ]
    }
   ],
   "source": [
    "with open('population.txt', 'rt') as file:\n",
    "    countries = [list(line.strip().split('\\t'))for line in file.readlines()]\n",
    "    for countr in countries:\n",
    "        countr[1] = int(countr[1])\n",
    "    countries1 = list(filter(lambda x: x[0][0]=='G' and x[1] > 500000, countries))\n",
    "    for i in countries1:\n",
    "        print(i[0])"
   ]
  },
  {
   "cell_type": "code",
   "execution_count": 79,
   "id": "afe008ab-a9a7-4296-b3df-abf0c2d4de80",
   "metadata": {},
   "outputs": [],
   "source": [
    "def read_csv():\n",
    "    with open('data.csv', 'r') as data:\n",
    "        res = []\n",
    "        keys = data.readline().strip().split(',')\n",
    "        not_keys = [line.strip().split(',') for line in data.readlines()]\n",
    "        for i in range(len(not_keys)):\n",
    "            res.append(dict(zip(keys, not_keys[i])))         \n",
    "    return res   "
   ]
  },
  {
   "cell_type": "code",
   "execution_count": 80,
   "id": "222e748f-ec2a-4c17-9630-6c9ac89f57bf",
   "metadata": {},
   "outputs": [
    {
     "data": {
      "text/plain": [
       "[{'policyID': '119736',\n",
       "  'statecode': 'FL',\n",
       "  'county': 'CLAY COUNTY',\n",
       "  'eq_site_limit': '498960',\n",
       "  'hu_site_limit': '498960',\n",
       "  'fl_site_limit': '498960',\n",
       "  'fr_site_limit': '498960',\n",
       "  'tiv_2011': '498960',\n",
       "  'tiv_2012': '792148.9',\n",
       "  'eq_site_deductible': '0',\n",
       "  'hu_site_deductible': '9979.2',\n",
       "  'fl_site_deductible': '0',\n",
       "  'fr_site_deductible': '0',\n",
       "  'point_latitude': '30.102261',\n",
       "  'point_longitude': '-81.711777',\n",
       "  'line': 'Residential',\n",
       "  'construction': 'Masonry',\n",
       "  'point_granularity': '1'},\n",
       " {'policyID': '448094',\n",
       "  'statecode': 'FL',\n",
       "  'county': 'CLAY COUNTY',\n",
       "  'eq_site_limit': '1322376.3',\n",
       "  'hu_site_limit': '1322376.3',\n",
       "  'fl_site_limit': '1322376.3',\n",
       "  'fr_site_limit': '1322376.3',\n",
       "  'tiv_2011': '1322376.3',\n",
       "  'tiv_2012': '1438163.57',\n",
       "  'eq_site_deductible': '0',\n",
       "  'hu_site_deductible': '0',\n",
       "  'fl_site_deductible': '0',\n",
       "  'fr_site_deductible': '0',\n",
       "  'point_latitude': '30.063936',\n",
       "  'point_longitude': '-81.707664',\n",
       "  'line': 'Residential',\n",
       "  'construction': 'Masonry',\n",
       "  'point_granularity': '3'},\n",
       " {'policyID': '206893',\n",
       "  'statecode': 'FL',\n",
       "  'county': 'CLAY COUNTY',\n",
       "  'eq_site_limit': '190724.4',\n",
       "  'hu_site_limit': '190724.4',\n",
       "  'fl_site_limit': '190724.4',\n",
       "  'fr_site_limit': '190724.4',\n",
       "  'tiv_2011': '190724.4',\n",
       "  'tiv_2012': '192476.78',\n",
       "  'eq_site_deductible': '0',\n",
       "  'hu_site_deductible': '0',\n",
       "  'fl_site_deductible': '0',\n",
       "  'fr_site_deductible': '0',\n",
       "  'point_latitude': '30.089579',\n",
       "  'point_longitude': '-81.700455',\n",
       "  'line': 'Residential',\n",
       "  'construction': 'Wood',\n",
       "  'point_granularity': '1'},\n",
       " {'policyID': '333743',\n",
       "  'statecode': 'FL',\n",
       "  'county': 'CLAY COUNTY',\n",
       "  'eq_site_limit': '0',\n",
       "  'hu_site_limit': '79520.76',\n",
       "  'fl_site_limit': '0',\n",
       "  'fr_site_limit': '0',\n",
       "  'tiv_2011': '79520.76',\n",
       "  'tiv_2012': '86854.48',\n",
       "  'eq_site_deductible': '0',\n",
       "  'hu_site_deductible': '0',\n",
       "  'fl_site_deductible': '0',\n",
       "  'fr_site_deductible': '0',\n",
       "  'point_latitude': '30.063236',\n",
       "  'point_longitude': '-81.707703',\n",
       "  'line': 'Residential',\n",
       "  'construction': 'Wood',\n",
       "  'point_granularity': '3'},\n",
       " {'policyID': '172534',\n",
       "  'statecode': 'FL',\n",
       "  'county': 'CLAY COUNTY',\n",
       "  'eq_site_limit': '0',\n",
       "  'hu_site_limit': '254281.5',\n",
       "  'fl_site_limit': '0',\n",
       "  'fr_site_limit': '254281.5',\n",
       "  'tiv_2011': '254281.5',\n",
       "  'tiv_2012': '246144.49',\n",
       "  'eq_site_deductible': '0',\n",
       "  'hu_site_deductible': '0',\n",
       "  'fl_site_deductible': '0',\n",
       "  'fr_site_deductible': '0',\n",
       "  'point_latitude': '30.060614',\n",
       "  'point_longitude': '-81.702675',\n",
       "  'line': 'Residential',\n",
       "  'construction': 'Wood',\n",
       "  'point_granularity': '1'},\n",
       " {'policyID': '785275',\n",
       "  'statecode': 'FL',\n",
       "  'county': 'CLAY COUNTY',\n",
       "  'eq_site_limit': '0',\n",
       "  'hu_site_limit': '515035.62',\n",
       "  'fl_site_limit': '0',\n",
       "  'fr_site_limit': '0',\n",
       "  'tiv_2011': '515035.62',\n",
       "  'tiv_2012': '884419.17',\n",
       "  'eq_site_deductible': '0',\n",
       "  'hu_site_deductible': '0',\n",
       "  'fl_site_deductible': '0',\n",
       "  'fr_site_deductible': '0',\n",
       "  'point_latitude': '30.063236',\n",
       "  'point_longitude': '-81.707703',\n",
       "  'line': 'Residential',\n",
       "  'construction': 'Masonry',\n",
       "  'point_granularity': '3'},\n",
       " {'policyID': '995932',\n",
       "  'statecode': 'FL',\n",
       "  'county': 'CLAY COUNTY',\n",
       "  'eq_site_limit': '0',\n",
       "  'hu_site_limit': '19260000',\n",
       "  'fl_site_limit': '0',\n",
       "  'fr_site_limit': '0',\n",
       "  'tiv_2011': '19260000',\n",
       "  'tiv_2012': '20610000',\n",
       "  'eq_site_deductible': '0',\n",
       "  'hu_site_deductible': '0',\n",
       "  'fl_site_deductible': '0',\n",
       "  'fr_site_deductible': '0',\n",
       "  'point_latitude': '30.102226',\n",
       "  'point_longitude': '-81.713882',\n",
       "  'line': 'Commercial',\n",
       "  'construction': 'Reinforced Concrete',\n",
       "  'point_granularity': '1'},\n",
       " {'policyID': '223488',\n",
       "  'statecode': 'FL',\n",
       "  'county': 'CLAY COUNTY',\n",
       "  'eq_site_limit': '328500',\n",
       "  'hu_site_limit': '328500',\n",
       "  'fl_site_limit': '328500',\n",
       "  'fr_site_limit': '328500',\n",
       "  'tiv_2011': '328500',\n",
       "  'tiv_2012': '348374.25',\n",
       "  'eq_site_deductible': '0',\n",
       "  'hu_site_deductible': '16425',\n",
       "  'fl_site_deductible': '0',\n",
       "  'fr_site_deductible': '0',\n",
       "  'point_latitude': '30.102217',\n",
       "  'point_longitude': '-81.707146',\n",
       "  'line': 'Residential',\n",
       "  'construction': 'Wood',\n",
       "  'point_granularity': '1'},\n",
       " {'policyID': '433512',\n",
       "  'statecode': 'FL',\n",
       "  'county': 'CLAY COUNTY',\n",
       "  'eq_site_limit': '315000',\n",
       "  'hu_site_limit': '315000',\n",
       "  'fl_site_limit': '315000',\n",
       "  'fr_site_limit': '315000',\n",
       "  'tiv_2011': '315000',\n",
       "  'tiv_2012': '265821.57',\n",
       "  'eq_site_deductible': '0',\n",
       "  'hu_site_deductible': '15750',\n",
       "  'fl_site_deductible': '0',\n",
       "  'fr_site_deductible': '0',\n",
       "  'point_latitude': '30.118774',\n",
       "  'point_longitude': '-81.704613',\n",
       "  'line': 'Residential',\n",
       "  'construction': 'Wood',\n",
       "  'point_granularity': '1'},\n",
       " {'policyID': '142071',\n",
       "  'statecode': 'FL',\n",
       "  'county': 'CLAY COUNTY',\n",
       "  'eq_site_limit': '705600',\n",
       "  'hu_site_limit': '705600',\n",
       "  'fl_site_limit': '705600',\n",
       "  'fr_site_limit': '705600',\n",
       "  'tiv_2011': '705600',\n",
       "  'tiv_2012': '1010842.56',\n",
       "  'eq_site_deductible': '14112',\n",
       "  'hu_site_deductible': '35280',\n",
       "  'fl_site_deductible': '0',\n",
       "  'fr_site_deductible': '0',\n",
       "  'point_latitude': '30.100628',\n",
       "  'point_longitude': '-81.703751',\n",
       "  'line': 'Residential',\n",
       "  'construction': 'Masonry',\n",
       "  'point_granularity': '1'}]"
      ]
     },
     "execution_count": 80,
     "metadata": {},
     "output_type": "execute_result"
    }
   ],
   "source": [
    "read_csv()"
   ]
  },
  {
   "cell_type": "code",
   "execution_count": 82,
   "id": "471e6403-42be-41a8-bd6d-daf81ed71a66",
   "metadata": {},
   "outputs": [],
   "source": [
    "with open('random.txt', 'w') as file:\n",
    "    from random import randint\n",
    "    file.writelines([str(randint(111, 777))+'\\n' for _ in range(25)])"
   ]
  },
  {
   "cell_type": "code",
   "execution_count": 89,
   "id": "2ae2f8f3-9247-4979-a5c9-e4eeeaa15942",
   "metadata": {},
   "outputs": [],
   "source": [
    "with open('input.txt', 'r') as inp, open('output.txt', 'w') as outp:\n",
    "    lines = inp.readlines()\n",
    "    for i in range(len(lines)):\n",
    "        temp = f'{i}) {lines[i]}'\n",
    "        outp.write(temp)"
   ]
  },
  {
   "cell_type": "code",
   "execution_count": 8,
   "id": "b6a423c6-db0f-405e-9bad-e5be81f97826",
   "metadata": {},
   "outputs": [],
   "source": [
    "with open('class_scores.txt', 'r', encoding='utf-8') as scores, open('new_scores.txt', 'w', encoding='utf-8') as scores1:\n",
    "    data = [line.strip().split() for line in scores.readlines()]\n",
    "    for item in data:\n",
    "        item[1] = str(int(item[1]) + 5)\n",
    "        if int(item[1]) > 100:\n",
    "            item[1] = '100'\n",
    "    data = list(map(lambda x:' '.join(x), data))\n",
    "    print(*data, sep='\\n', file=scores1)"
   ]
  },
  {
   "cell_type": "code",
   "execution_count": 15,
   "id": "0c8aaf6e-46c8-4aec-9caf-5d6c6aa1952d",
   "metadata": {},
   "outputs": [],
   "source": [
    "with open('goats.txt', 'r') as file, open('answer.txt', 'w') as answer:\n",
    "    goats = []\n",
    "    temp = file.readline().strip()\n",
    "    while temp != 'GOATS':\n",
    "        temp = file.readline().strip()\n",
    "        goats.append(temp)\n",
    "    del goats[-1]\n",
    "    goats1 = [line.strip() for line in file.readlines()]\n",
    "    n = len(goats1)\n",
    "    res = []\n",
    "    for i in goats:\n",
    "        temp = (i, goats1.count(i)/n)\n",
    "        res.append(temp)\n",
    "    res = list(filter(lambda x: x[1] > 0.07, res))\n",
    "    for i in res:\n",
    "        print(i[0], sep='\\n', file=answer)"
   ]
  },
  {
   "cell_type": "code",
   "execution_count": 29,
   "id": "52e2d6ff-6fa4-4ada-b3fc-b40a3cb95e3e",
   "metadata": {},
   "outputs": [
    {
     "name": "stdin",
     "output_type": "stream",
     "text": [
      " 2\n",
      " input.txt\n",
      " random.txt\n"
     ]
    }
   ],
   "source": [
    "n = int(input())\n",
    "with open('output.txt', 'w') as out:\n",
    "    for i in range(n):\n",
    "        name = input()\n",
    "        with open(name, 'r') as temp:\n",
    "            text = temp.read()\n",
    "            print(text, file=out, end='')"
   ]
  },
  {
   "cell_type": "code",
   "execution_count": 20,
   "id": "2fa60e1a-924d-4ce0-9d7e-7a79dbc4011b",
   "metadata": {},
   "outputs": [],
   "source": [
    "with open('logfile.txt', 'r', encoding='utf-8') as file, open('output.txt', 'w',encoding='utf-8') as out:\n",
    "    names = [line.strip().split() for line in file.readlines()]\n",
    "    for i in names:\n",
    "        i[0] = i[0] + ' ' + i[1]\n",
    "        del i[1]\n",
    "        i[1] = i[1][:-1]\n",
    "    def mins(x):\n",
    "        x = [int(i) for i in x.split(':')]\n",
    "        return x[0]*60 + x[1]\n",
    "    names = list(filter(lambda log: mins(log[2]) - mins(log[1]) >= 60, names))\n",
    "    for i in names:\n",
    "        print(i[0][:-1], sep='\\n', file=out)"
   ]
  },
  {
   "cell_type": "code",
   "execution_count": null,
   "id": "8040094d-6ebe-4ecf-a0a3-fe88aa035043",
   "metadata": {},
   "outputs": [],
   "source": []
  }
 ],
 "metadata": {
  "kernelspec": {
   "display_name": "Python 3 (ipykernel)",
   "language": "python",
   "name": "python3"
  },
  "language_info": {
   "codemirror_mode": {
    "name": "ipython",
    "version": 3
   },
   "file_extension": ".py",
   "mimetype": "text/x-python",
   "name": "python",
   "nbconvert_exporter": "python",
   "pygments_lexer": "ipython3",
   "version": "3.9.7"
  }
 },
 "nbformat": 4,
 "nbformat_minor": 5
}
