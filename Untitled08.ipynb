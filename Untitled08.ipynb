{
 "cells": [
  {
   "cell_type": "code",
   "execution_count": 21,
   "id": "fb38b472-605a-45e9-b197-4d0eab823ab8",
   "metadata": {},
   "outputs": [],
   "source": [
    "import csv, json\n",
    "with open('students.json', 'r', encoding='utf-8') as file:\n",
    "    data = list(filter(lambda x: int(x['age']) >= 18 and  int(x['progress']) >= 75, json.load(file)))\n",
    "with open('data.csv', 'w', encoding='utf-8') as file:\n",
    "    c = ['name', 'phone']\n",
    "    writer = csv.DictWriter(file, fieldnames=c)\n",
    "    writer.writeheader()\n",
    "    data1 = []\n",
    "    for row in data:\n",
    "        data1. append({c[0]:row[c[0]], c[1]:row[c[1]]})\n",
    "    data1 = sorted(data1, key=lambda x: x['name'])\n",
    "    for row in data1:\n",
    "        writer.writerow(row)"
   ]
  },
  {
   "cell_type": "code",
   "execution_count": 41,
   "id": "2f32e3b2-8901-4e02-93bb-c406f92fe1e6",
   "metadata": {},
   "outputs": [
    {
     "name": "stdout",
     "output_type": "stream",
     "text": [
      "70x20\n",
      "Новоостаповская улица, дом 5, строение 2\n"
     ]
    }
   ],
   "source": [
    "import json\n",
    "with open('pools.json', 'r', encoding='utf-8') as file:\n",
    "    data = json.load(file)\n",
    "    \n",
    "def filt(obj):\n",
    "    from datetime import datetime\n",
    "    times = [datetime.strptime(i, '%H:%M') for i in obj['WorkingHoursSummer']['Понедельник'].split('-')]\n",
    "    return times[0] <= datetime(1900, 1, 1, 10) and times[1] >= datetime(1900, 1, 1, 12)\n",
    "\n",
    "ans = max(list(filter(filt, data)), key=lambda x: (x['DimensionsSummer']['Length'], x['DimensionsSummer']['Width']))\n",
    "leng, wid = ans['DimensionsSummer']['Length'], ans['DimensionsSummer']['Width'] \n",
    "print(f'{leng}x{wid}')\n",
    "print(ans['Address'])"
   ]
  },
  {
   "cell_type": "code",
   "execution_count": 81,
   "id": "1c7150ce-f010-4d62-939f-74fdfdeb624b",
   "metadata": {},
   "outputs": [],
   "source": [
    "import csv, json\n",
    "from datetime import datetime\n",
    "with open('exam_results.csv', 'r', encoding='utf-8') as file:\n",
    "    data = list(csv.DictReader(file))\n",
    "data = sorted(data, key=lambda x: (x['email'], x['score']))\n",
    "string = '%Y-%m-%d %H:%M:%S'\n",
    "for student in data:\n",
    "    student['date_and_time'] = datetime.strptime(student['date_and_time'], string)\n",
    "\n",
    "group, temp_email, data1 = [], data[0]['email'], []\n",
    "for student in data:\n",
    "    if student['email'] == temp_email:\n",
    "        group.append(student)\n",
    "    else:\n",
    "        temp_email = student['email']\n",
    "        data1.append(max(group, key=lambda x: (int(x['score']), x['date_and_time'])))\n",
    "        group = [student]\n",
    "        if data.index(student) == len(data) - 1:\n",
    "            data1.append(max(group, key=lambda x: (int(x['score']), x['date_and_time'])))\n",
    "        \n",
    "data1 = list(map(lambda x: {'name':x['name'], 'surname':x['surname'], 'best_score':int(x['score']),\n",
    "                            'date_and_time':x['date_and_time'].strftime(string), 'email':x['email']}, data1))        \n",
    "\n",
    "with open('best_scores.json', 'w', encoding='utf-8') as file:\n",
    "    json.dump(data1, file, indent=3)"
   ]
  },
  {
   "cell_type": "code",
   "execution_count": 114,
   "id": "b5923608-866b-42a3-80b2-5f22f8258347",
   "metadata": {},
   "outputs": [
    {
     "name": "stdout",
     "output_type": "stream",
     "text": [
      "Тверской район: 963\n",
      "KFC: 230\n"
     ]
    }
   ],
   "source": [
    "import json\n",
    "with open('food_services.json', 'r', encoding='utf-8') as file:\n",
    "    data = json.load(file)\n",
    "    \n",
    "res = {}\n",
    "for obj in data:\n",
    "    if obj['District'] not in res.keys():\n",
    "        res[obj['District']] = 1\n",
    "    else:\n",
    "        res[obj['District']] = res[obj['District']] + 1\n",
    "dist = max(res, key=lambda x: res[x])\n",
    "print(f'{dist}: {res[dist]}')\n",
    "\n",
    "data1 = list(filter(lambda x: x['IsNetObject']=='да', data))\n",
    "res = {}\n",
    "for obj in data1:\n",
    "    if obj['OperatingCompany'] not in res.keys():\n",
    "        res[obj['OperatingCompany']] = 1\n",
    "    else:\n",
    "        res[obj['OperatingCompany']] = res[obj['OperatingCompany']] + 1\n",
    "dist = max(res, key=lambda x: res[x])\n",
    "print(f'{dist}: {res[dist]}')        \n"
   ]
  },
  {
   "cell_type": "code",
   "execution_count": 117,
   "id": "88267c4b-64fd-43ff-9dea-19a7388e29b3",
   "metadata": {},
   "outputs": [
    {
     "name": "stdout",
     "output_type": "stream",
     "text": [
      "бар: Барное объединение ПРОФСОЮЗ, 800\n",
      "буфет: СТОЛОВАЯ - КАНТИНАСИТИ, 320\n",
      "закусочная: Бургерная FARШ, 74\n",
      "кафе: Чайхана, 800\n",
      "кафетерий: ЗОАР кафе, 200\n",
      "магазин (отдел кулинарии): Соль, 100\n",
      "предприятие быстрого обслуживания: МАКДОНАЛДС, 580\n",
      "ресторан: РУМ СЕРВИС, 1200\n",
      "столовая: Трапезная, 1400\n"
     ]
    }
   ],
   "source": [
    "import json\n",
    "with open('food_services.json', 'r', encoding='utf-8') as file:\n",
    "    data = json.load(file)\n",
    "data1 = {}\n",
    "for obj in data:\n",
    "    if obj['TypeObject'] not in data1.keys():\n",
    "        data1[obj['TypeObject']] = [obj['Name'], obj['SeatsCount']]\n",
    "    else:\n",
    "        if obj['SeatsCount'] > data1[obj['TypeObject']][1]:\n",
    "            data1[obj['TypeObject']] = [obj['Name'], obj['SeatsCount']]\n",
    "for key in sorted(data1):\n",
    "    print(f'{key}: {data1[key][0]}, {data1[key][1]}')"
   ]
  },
  {
   "cell_type": "code",
   "execution_count": 123,
   "id": "9004f417-7954-4653-8180-7883521ab765",
   "metadata": {},
   "outputs": [
    {
     "name": "stdout",
     "output_type": "stream",
     "text": [
      "0\n",
      "0\n",
      "test/\n",
      "(2021, 11, 27, 12, 47, 10)\n",
      "________________\n",
      "0\n",
      "0\n",
      "test/Картинки/\n",
      "(2021, 11, 27, 12, 49, 2)\n",
      "________________\n",
      "90156\n",
      "84676\n",
      "test/Картинки/1.jpg\n",
      "(2021, 9, 2, 12, 30, 20)\n",
      "________________\n",
      "19053\n",
      "19053\n",
      "test/Картинки/avatar.png\n",
      "(2021, 8, 20, 9, 38, 44)\n",
      "________________\n",
      "43699\n",
      "43532\n",
      "test/Картинки/certificate.png\n",
      "(2021, 10, 23, 9, 46, 36)\n",
      "________________\n",
      "33522\n",
      "33443\n",
      "test/Картинки/py.png\n",
      "(2021, 7, 28, 17, 55, 56)\n",
      "________________\n",
      "2324421\n",
      "2322032\n",
      "test/Картинки/World_Time_Zones_Map.png\n",
      "(2021, 11, 8, 7, 30, 6)\n",
      "________________\n",
      "10878\n",
      "10614\n",
      "test/Картинки/Снимок экрана.png\n",
      "(2021, 10, 1, 20, 47, 2)\n",
      "________________\n",
      "5283010\n",
      "5283010\n",
      "test/Неравенства.djvu\n",
      "(2021, 8, 19, 8, 39, 6)\n",
      "________________\n",
      "0\n",
      "0\n",
      "test/Программы/\n",
      "(2021, 11, 27, 12, 48, 20)\n",
      "________________\n",
      "4955\n",
      "1641\n",
      "test/Программы/image_util.py\n",
      "(2021, 11, 18, 12, 42, 22)\n",
      "________________\n",
      "61\n",
      "58\n",
      "test/Программы/sort.py\n",
      "(2021, 11, 14, 19, 31, 2)\n",
      "________________\n",
      "0\n",
      "0\n",
      "test/Разные файлы/\n",
      "(2021, 11, 27, 12, 48, 10)\n",
      "________________\n",
      "505\n",
      "208\n",
      "test/Разные файлы/astros.json\n",
      "(2021, 11, 8, 9, 29, 58)\n",
      "________________\n"
     ]
    }
   ],
   "source": [
    "from zipfile import ZipFile\n",
    "with ZipFile('test.zip', 'r') as zip_file:\n",
    "    info = zip_file.infolist()\n",
    "    for i in range(len(info)):\n",
    "        print(info[i].file_size)                # размер начального файла в байтах\n",
    "        print(info[i].compress_size)            # размер сжатого файла в байтах\n",
    "        print(info[i].filename)                 # имя файла\n",
    "        print(info[i].date_time) \n",
    "        print('________________')"
   ]
  },
  {
   "cell_type": "code",
   "execution_count": 125,
   "id": "0027368f-eb31-43b4-993f-d5afedf36f3e",
   "metadata": {},
   "outputs": [
    {
     "name": "stdout",
     "output_type": "stream",
     "text": [
      "test/\n",
      "test/Картинки/\n",
      "test/Картинки/1.jpg\n",
      "test/Картинки/avatar.png\n",
      "test/Картинки/certificate.png\n",
      "test/Картинки/py.png\n",
      "test/Картинки/World_Time_Zones_Map.png\n",
      "test/Картинки/Снимок экрана.png\n",
      "test/Неравенства.djvu\n",
      "test/Программы/\n",
      "test/Программы/image_util.py\n",
      "test/Программы/sort.py\n",
      "test/Разные файлы/\n",
      "test/Разные файлы/astros.json\n"
     ]
    }
   ],
   "source": [
    "from zipfile import ZipFile\n",
    "with ZipFile('test.zip', 'r') as zip_file:\n",
    "    info = zip_file.namelist()\n",
    "    print(*info, sep='\\n')"
   ]
  },
  {
   "cell_type": "code",
   "execution_count": 126,
   "id": "7934608f-1584-4f9c-84b8-6ac364a93acc",
   "metadata": {},
   "outputs": [
    {
     "name": "stdout",
     "output_type": "stream",
     "text": [
      "b'{\"number\": 10, \"people\": [{\"craft\": \"ISS\", \"name\": \"Mark Vande Hei\"}, {\"craft\": \"ISS\", \"name\": \"Pyotr Dubrov\"}, {\"craft\": \"ISS\", \"name\": \"Thomas Pesquet\"}, {\"craft\": \"ISS\", \"name\": \"Megan McArthur\"}, {\"craft\": \"ISS\", \"name\": \"Shane Kimbrough\"}, {\"craft\": \"ISS\", \"name\": \"Akihiko Hoshide\"}, {\"craft\": \"ISS\", \"name\": \"Anton Shkaplerov\"}, {\"craft\": \"Shenzhou 13\", \"name\": \"Zhai Zhigang\"}, {\"craft\": \"Shenzhou 13\", \"name\": \"Wang Yaping\"}, {\"craft\": \"Shenzhou 13\", \"name\": \"Ye Guangfu\"}], \"message\": \"success\"}'\n"
     ]
    }
   ],
   "source": [
    "from zipfile import ZipFile\n",
    "\n",
    "with ZipFile('test.zip') as zip_file:\n",
    "    with zip_file.open('test/Разные файлы/astros.json') as file:\n",
    "        print(file.read())"
   ]
  },
  {
   "cell_type": "code",
   "execution_count": 127,
   "id": "170bd459-0f66-454d-860e-b7f39ef2004d",
   "metadata": {},
   "outputs": [
    {
     "name": "stdout",
     "output_type": "stream",
     "text": [
      "{\"number\": 10, \"people\": [{\"craft\": \"ISS\", \"name\": \"Mark Vande Hei\"}, {\"craft\": \"ISS\", \"name\": \"Pyotr Dubrov\"}, {\"craft\": \"ISS\", \"name\": \"Thomas Pesquet\"}, {\"craft\": \"ISS\", \"name\": \"Megan McArthur\"}, {\"craft\": \"ISS\", \"name\": \"Shane Kimbrough\"}, {\"craft\": \"ISS\", \"name\": \"Akihiko Hoshide\"}, {\"craft\": \"ISS\", \"name\": \"Anton Shkaplerov\"}, {\"craft\": \"Shenzhou 13\", \"name\": \"Zhai Zhigang\"}, {\"craft\": \"Shenzhou 13\", \"name\": \"Wang Yaping\"}, {\"craft\": \"Shenzhou 13\", \"name\": \"Ye Guangfu\"}], \"message\": \"success\"}\n"
     ]
    }
   ],
   "source": [
    "from zipfile import ZipFile\n",
    "\n",
    "with ZipFile('test.zip') as zip_file:\n",
    "    with zip_file.open('test/Разные файлы/astros.json') as file:\n",
    "        print(file.read().decode('utf-8'))"
   ]
  },
  {
   "cell_type": "code",
   "execution_count": 131,
   "id": "a1c78c08-f362-44d1-b85f-20ca266b7b31",
   "metadata": {},
   "outputs": [
    {
     "name": "stdout",
     "output_type": "stream",
     "text": [
      "18\n"
     ]
    }
   ],
   "source": [
    "from zipfile import ZipFile\n",
    "with ZipFile('workbook.zip') as file:\n",
    "    info, co = file.infolist(), 0\n",
    "    for item in info:\n",
    "        if not item.is_dir():\n",
    "            co += 1\n",
    "print(co)"
   ]
  },
  {
   "cell_type": "code",
   "execution_count": 3,
   "id": "30ab89b9-cbf1-4796-921d-0629bb929ebc",
   "metadata": {},
   "outputs": [
    {
     "name": "stdout",
     "output_type": "stream",
     "text": [
      "Объем исходных файлов: 17118701 байт(а)\n",
      "Объем сжатых файлов: 15693720 байт(а)\n"
     ]
    }
   ],
   "source": [
    "from zipfile import ZipFile\n",
    "with ZipFile('workbook.zip') as file:\n",
    "    info, co1, co2 = file.infolist(), 0, 0\n",
    "    for item in info:\n",
    "        co1 += item.file_size\n",
    "        co2 += item.compress_size\n",
    "print(f'Объем исходных файлов: {co1} байт(а)')\n",
    "print(f'Объем сжатых файлов: {co2} байт(а)')"
   ]
  },
  {
   "cell_type": "code",
   "execution_count": 14,
   "id": "215c5cd7-1815-43f1-9ac6-a3bb9c9a35a5",
   "metadata": {},
   "outputs": [
    {
     "name": "stdout",
     "output_type": "stream",
     "text": [
      "fontlist-v330.json\n"
     ]
    }
   ],
   "source": [
    "from zipfile import ZipFile\n",
    "with ZipFile('workbook.zip') as file:\n",
    "    info, data = file.infolist(), {}\n",
    "    \n",
    "for item in info:\n",
    "    if item.file_size != 0:\n",
    "        data[item.filename] = item.compress_size / item.file_size\n",
    "\n",
    "print(min(data, key=lambda x: data[x]).split('/')[-1])"
   ]
  },
  {
   "cell_type": "code",
   "execution_count": 25,
   "id": "8a701451-9d43-4d83-b6b3-d5a8e7da4091",
   "metadata": {},
   "outputs": [
    {
     "name": "stdout",
     "output_type": "stream",
     "text": [
      "countries.json\n",
      "data_sample.csv\n",
      "earth.jpg\n",
      "exam.txt\n",
      "fipi_demo_2022.pdf\n",
      "homework.py\n",
      "python.pdf\n",
      "readme.txt\n",
      "shopping_list.txt\n",
      "task_results.xlsx\n"
     ]
    }
   ],
   "source": [
    "from zipfile import ZipFile\n",
    "from datetime import datetime\n",
    "with ZipFile('workbook.zip') as file:\n",
    "    info, data = file.infolist(), {}\n",
    "dat = datetime(2021, 11, 30, 14, 22) \n",
    "info = list(filter(lambda x: not x.is_dir(), info))\n",
    "for item in info:\n",
    "    data[item.filename] = datetime(*item.date_time)\n",
    "    \n",
    "result = list(filter(lambda x: data[x] > dat, data))\n",
    "result = sorted(list(map(lambda x: x.split('/')[-1], result)))\n",
    "print(*result, sep='\\n')"
   ]
  },
  {
   "cell_type": "code",
   "execution_count": 47,
   "id": "bd56b6c2-5123-41ed-ac0d-4cca3887059d",
   "metadata": {},
   "outputs": [
    {
     "name": "stdout",
     "output_type": "stream",
     "text": [
      "Alexandra Savior – Crying All the Time.mp3\n",
      "  Дата модификации файла: 2021-11-30 13:27:02\n",
      "  Объем исходного файла: 5057559 байт(а)\n",
      "  Объем сжатого файла: 5051745 байт(а)\n",
      "\n",
      "Hollow Knight Silksong.exe\n",
      "  Дата модификации файла: 2013-08-22 08:20:06\n",
      "  Объем исходного файла: 805992 байт(а)\n",
      "  Объем сжатого файла: 494930 байт(а)\n",
      "\n",
      "Psychonauts 2.exe\n",
      "  Дата модификации файла: 2013-08-22 08:20:06\n",
      "  Объем исходного файла: 805992 байт(а)\n",
      "  Объем сжатого файла: 494930 байт(а)\n",
      "\n",
      "code.jpeg\n",
      "  Дата модификации файла: 2021-11-30 13:18:26\n",
      "  Объем исходного файла: 412414 байт(а)\n",
      "  Объем сжатого файла: 410006 байт(а)\n",
      "\n",
      "countries.json\n",
      "  Дата модификации файла: 2021-11-30 19:42:40\n",
      "  Объем исходного файла: 22 байт(а)\n",
      "  Объем сжатого файла: 22 байт(а)\n",
      "\n",
      "data_sample.csv\n",
      "  Дата модификации файла: 2021-11-30 19:41:58\n",
      "  Объем исходного файла: 15 байт(а)\n",
      "  Объем сжатого файла: 15 байт(а)\n",
      "\n",
      "earth.jpg\n",
      "  Дата модификации файла: 2021-11-30 20:15:26\n",
      "  Объем исходного файла: 335250 байт(а)\n",
      "  Объем сжатого файла: 330037 байт(а)\n",
      "\n",
      "exam.txt\n",
      "  Дата модификации файла: 2021-11-30 20:16:44\n",
      "  Объем исходного файла: 9 байт(а)\n",
      "  Объем сжатого файла: 9 байт(а)\n",
      "\n",
      "fipi_demo_2022.pdf\n",
      "  Дата модификации файла: 2021-11-30 14:33:56\n",
      "  Объем исходного файла: 682337 байт(а)\n",
      "  Объем сжатого файла: 624606 байт(а)\n",
      "\n",
      "fontlist-v330.json\n",
      "  Дата модификации файла: 2021-11-19 10:53:12\n",
      "  Объем исходного файла: 96401 байт(а)\n",
      "  Объем сжатого файла: 4803 байт(а)\n",
      "\n",
      "homework.py\n",
      "  Дата модификации файла: 2021-11-30 14:36:06\n",
      "  Объем исходного файла: 14 байт(а)\n",
      "  Объем сжатого файла: 14 байт(а)\n",
      "\n",
      "how to prove.pdf\n",
      "  Дата модификации файла: 2021-11-30 13:27:36\n",
      "  Объем исходного файла: 660617 байт(а)\n",
      "  Объем сжатого файла: 654933 байт(а)\n",
      "\n",
      "python.pdf\n",
      "  Дата модификации файла: 2021-11-30 20:22:40\n",
      "  Объем исходного файла: 8237200 байт(а)\n",
      "  Объем сжатого файла: 7606256 байт(а)\n",
      "\n",
      "readme.txt\n",
      "  Дата модификации файла: 2021-11-30 20:16:56\n",
      "  Объем исходного файла: 14 байт(а)\n",
      "  Объем сжатого файла: 14 байт(а)\n",
      "\n",
      "shopping_list.txt\n",
      "  Дата модификации файла: 2021-11-30 14:32:44\n",
      "  Объем исходного файла: 25 байт(а)\n",
      "  Объем сжатого файла: 25 байт(а)\n",
      "\n",
      "stepik.png\n",
      "  Дата модификации файла: 2021-11-30 13:28:14\n",
      "  Объем исходного файла: 11378 байт(а)\n",
      "  Объем сжатого файла: 10294 байт(а)\n",
      "\n",
      "task_results.xlsx\n",
      "  Дата модификации файла: 2021-11-30 20:21:32\n",
      "  Объем исходного файла: 13420 байт(а)\n",
      "  Объем сжатого файла: 11039 байт(а)\n",
      "\n",
      "test.py\n",
      "  Дата модификации файла: 2021-11-30 14:09:04\n",
      "  Объем исходного файла: 42 байт(а)\n",
      "  Объем сжатого файла: 42 байт(а)\n"
     ]
    }
   ],
   "source": [
    "from zipfile import ZipFile\n",
    "from datetime import datetime\n",
    "with ZipFile('workbook.zip') as file:\n",
    "    info, data = file.infolist(), []\n",
    "    info = list(filter(lambda x: not x.is_dir(), info))\n",
    "for item in info:\n",
    "    data.append({'name':item.filename.split('/')[-1], 'datetime':datetime(*item.date_time), 'file_size':item.file_size, 'compress_size':item.compress_size})\n",
    "data = sorted(data, key=lambda x: x['name'])\n",
    "for item in data:\n",
    "    print(item['name'])\n",
    "    print(f'  Дата модификации файла: {item[\"datetime\"]}')\n",
    "    print(f'  Объем исходного файла: {item[\"file_size\"]} байт(а)')\n",
    "    print(f'  Объем сжатого файла: {item[\"compress_size\"]} байт(а)')\n",
    "    if item != data[-1]:\n",
    "        print()"
   ]
  },
  {
   "cell_type": "code",
   "execution_count": 56,
   "id": "3fb5b365-d98d-42b3-b9b9-2fa47ae4e0f9",
   "metadata": {},
   "outputs": [
    {
     "ename": "FileNotFoundError",
     "evalue": "[WinError 2] Не удается найти указанный файл: 'how to prove.pdf'",
     "output_type": "error",
     "traceback": [
      "\u001b[1;31m---------------------------------------------------------------------------\u001b[0m",
      "\u001b[1;31mFileNotFoundError\u001b[0m                         Traceback (most recent call last)",
      "\u001b[1;32m~\\AppData\\Local\\Temp/ipykernel_10648/910621568.py\u001b[0m in \u001b[0;36m<module>\u001b[1;34m\u001b[0m\n\u001b[0;32m      6\u001b[0m \u001b[1;32mwith\u001b[0m \u001b[0mZipFile\u001b[0m\u001b[1;33m(\u001b[0m\u001b[1;34m'temp.zip'\u001b[0m\u001b[1;33m,\u001b[0m \u001b[0mmode\u001b[0m\u001b[1;33m=\u001b[0m\u001b[1;34m'w'\u001b[0m\u001b[1;33m)\u001b[0m \u001b[1;32mas\u001b[0m \u001b[0mfile\u001b[0m\u001b[1;33m,\u001b[0m \u001b[0mZipFile\u001b[0m\u001b[1;33m(\u001b[0m\u001b[1;34m'files.zip'\u001b[0m\u001b[1;33m,\u001b[0m \u001b[0mmode\u001b[0m\u001b[1;33m=\u001b[0m\u001b[1;34m'a'\u001b[0m\u001b[1;33m)\u001b[0m \u001b[1;32mas\u001b[0m \u001b[0mfile1\u001b[0m\u001b[1;33m:\u001b[0m\u001b[1;33m\u001b[0m\u001b[1;33m\u001b[0m\u001b[0m\n\u001b[0;32m      7\u001b[0m     \u001b[1;32mfor\u001b[0m \u001b[0mitem\u001b[0m \u001b[1;32min\u001b[0m \u001b[0mfile_names\u001b[0m\u001b[1;33m:\u001b[0m\u001b[1;33m\u001b[0m\u001b[1;33m\u001b[0m\u001b[0m\n\u001b[1;32m----> 8\u001b[1;33m         \u001b[0mfile\u001b[0m\u001b[1;33m.\u001b[0m\u001b[0mwrite\u001b[0m\u001b[1;33m(\u001b[0m\u001b[0mitem\u001b[0m\u001b[1;33m)\u001b[0m\u001b[1;33m\u001b[0m\u001b[1;33m\u001b[0m\u001b[0m\n\u001b[0m\u001b[0;32m      9\u001b[0m     \u001b[0minfo\u001b[0m \u001b[1;33m=\u001b[0m \u001b[0mfile\u001b[0m\u001b[1;33m.\u001b[0m\u001b[0minfolist\u001b[0m\u001b[1;33m(\u001b[0m\u001b[1;33m)\u001b[0m\u001b[1;33m\u001b[0m\u001b[1;33m\u001b[0m\u001b[0m\n\u001b[0;32m     10\u001b[0m     \u001b[0mfile_filt\u001b[0m \u001b[1;33m=\u001b[0m \u001b[1;33m[\u001b[0m\u001b[0mitem\u001b[0m\u001b[1;33m.\u001b[0m\u001b[0mfilename\u001b[0m \u001b[1;32mfor\u001b[0m \u001b[0mitem\u001b[0m \u001b[1;32min\u001b[0m \u001b[0minfo\u001b[0m \u001b[1;32mif\u001b[0m \u001b[0mitem\u001b[0m\u001b[1;33m.\u001b[0m\u001b[0mfile_size\u001b[0m \u001b[1;33m<=\u001b[0m \u001b[1;36m100\u001b[0m\u001b[1;33m]\u001b[0m\u001b[1;33m\u001b[0m\u001b[1;33m\u001b[0m\u001b[0m\n",
      "\u001b[1;32mD:\\Anaconda\\lib\\zipfile.py\u001b[0m in \u001b[0;36mwrite\u001b[1;34m(self, filename, arcname, compress_type, compresslevel)\u001b[0m\n\u001b[0;32m   1725\u001b[0m             )\n\u001b[0;32m   1726\u001b[0m \u001b[1;33m\u001b[0m\u001b[0m\n\u001b[1;32m-> 1727\u001b[1;33m         zinfo = ZipInfo.from_file(filename, arcname,\n\u001b[0m\u001b[0;32m   1728\u001b[0m                                   strict_timestamps=self._strict_timestamps)\n\u001b[0;32m   1729\u001b[0m \u001b[1;33m\u001b[0m\u001b[0m\n",
      "\u001b[1;32mD:\\Anaconda\\lib\\zipfile.py\u001b[0m in \u001b[0;36mfrom_file\u001b[1;34m(cls, filename, arcname, strict_timestamps)\u001b[0m\n\u001b[0;32m    499\u001b[0m         \u001b[1;32mif\u001b[0m \u001b[0misinstance\u001b[0m\u001b[1;33m(\u001b[0m\u001b[0mfilename\u001b[0m\u001b[1;33m,\u001b[0m \u001b[0mos\u001b[0m\u001b[1;33m.\u001b[0m\u001b[0mPathLike\u001b[0m\u001b[1;33m)\u001b[0m\u001b[1;33m:\u001b[0m\u001b[1;33m\u001b[0m\u001b[1;33m\u001b[0m\u001b[0m\n\u001b[0;32m    500\u001b[0m             \u001b[0mfilename\u001b[0m \u001b[1;33m=\u001b[0m \u001b[0mos\u001b[0m\u001b[1;33m.\u001b[0m\u001b[0mfspath\u001b[0m\u001b[1;33m(\u001b[0m\u001b[0mfilename\u001b[0m\u001b[1;33m)\u001b[0m\u001b[1;33m\u001b[0m\u001b[1;33m\u001b[0m\u001b[0m\n\u001b[1;32m--> 501\u001b[1;33m         \u001b[0mst\u001b[0m \u001b[1;33m=\u001b[0m \u001b[0mos\u001b[0m\u001b[1;33m.\u001b[0m\u001b[0mstat\u001b[0m\u001b[1;33m(\u001b[0m\u001b[0mfilename\u001b[0m\u001b[1;33m)\u001b[0m\u001b[1;33m\u001b[0m\u001b[1;33m\u001b[0m\u001b[0m\n\u001b[0m\u001b[0;32m    502\u001b[0m         \u001b[0misdir\u001b[0m \u001b[1;33m=\u001b[0m \u001b[0mstat\u001b[0m\u001b[1;33m.\u001b[0m\u001b[0mS_ISDIR\u001b[0m\u001b[1;33m(\u001b[0m\u001b[0mst\u001b[0m\u001b[1;33m.\u001b[0m\u001b[0mst_mode\u001b[0m\u001b[1;33m)\u001b[0m\u001b[1;33m\u001b[0m\u001b[1;33m\u001b[0m\u001b[0m\n\u001b[0;32m    503\u001b[0m         \u001b[0mmtime\u001b[0m \u001b[1;33m=\u001b[0m \u001b[0mtime\u001b[0m\u001b[1;33m.\u001b[0m\u001b[0mlocaltime\u001b[0m\u001b[1;33m(\u001b[0m\u001b[0mst\u001b[0m\u001b[1;33m.\u001b[0m\u001b[0mst_mtime\u001b[0m\u001b[1;33m)\u001b[0m\u001b[1;33m\u001b[0m\u001b[1;33m\u001b[0m\u001b[0m\n",
      "\u001b[1;31mFileNotFoundError\u001b[0m: [WinError 2] Не удается найти указанный файл: 'how to prove.pdf'"
     ]
    }
   ],
   "source": [
    "from zipfile import ZipFile\n",
    "\n",
    "file_names = ['how to prove.pdf', 'fipi_demo_2022.pdf', 'Hollow Knight Silksong.exe',\n",
    "             'code.jpeg', 'stepik.png', 'readme.txt', 'shopping_list.txt',\n",
    "           'Alexandra Savior – Crying All the Time.mp3', 'homework.py', 'test.py']\n",
    "with ZipFile('temp.zip', mode='w') as file, ZipFile('files.zip', mode='a') as file1:\n",
    "    for item in file_names:\n",
    "        file.write(item)\n",
    "    info = file.infolist()\n",
    "    file_filt = [item.filename for item in info if item.file_size <= 100] \n",
    "    for item in file_filt:\n",
    "        file1.write(item)\n",
    "    "
   ]
  },
  {
   "cell_type": "code",
   "execution_count": 32,
   "id": "6331789f-9994-4e76-8e13-26c82a5d67b7",
   "metadata": {},
   "outputs": [],
   "source": [
    "def extract_this(zip_name, *args):\n",
    "    from zipfile import ZipFile\n",
    "    \n",
    "    with ZipFile(zip_name, mode='r') as arch:\n",
    "        info = arch.infolist()\n",
    "        for item in info:\n",
    "            name = item.filename.split('/')[-1]\n",
    "            \n",
    "            if args == () and not item.is_dir():\n",
    "                with arch.open(item.filename, 'r') as file, open(name, 'w', encoding='utf-8') as end:\n",
    "                    text = file.read()\n",
    "                    print(text, file=end)\n",
    "                    \n",
    "            elif not item.is_dir() and name in args:\n",
    "                with arch.open(item.filename, 'r') as file, open(name, 'w', encoding='utf-8') as end:\n",
    "                    text = file.read()\n",
    "                    print(text, file=end)\n",
    "                   "
   ]
  },
  {
   "cell_type": "code",
   "execution_count": 83,
   "id": "c8becaf5-91f9-47a5-ab04-2f9b393bf151",
   "metadata": {},
   "outputs": [
    {
     "name": "stdout",
     "output_type": "stream",
     "text": [
      "Alex Iwobi\n",
      "Alexis Sanchez\n",
      "Hector Bellerin\n",
      "Laurent Koscielny\n",
      "Mesut Ozil\n",
      "Olivier Giroud\n",
      "Petr Cech\n",
      "Theo Walcott\n"
     ]
    }
   ],
   "source": [
    "from zipfile import ZipFile\n",
    "import json\n",
    "    \n",
    "with ZipFile('data.zip', mode='r') as arch:\n",
    "    info = arch.infolist()\n",
    "    data = []\n",
    "    for item in info:\n",
    "        if not item.is_dir() and item.filename.split('/')[-1].split('.')[-1] == 'json':\n",
    "            with arch.open(item.filename, 'r') as file:\n",
    "                try:\n",
    "                    data.append(json.load(file))\n",
    "                except:\n",
    "                    pass\n",
    "                \n",
    "data1 = list(filter(lambda x: x['team']=='Arsenal', data))\n",
    "data1 = list(map(lambda x: x['first_name']+' '+x['last_name'], data1))\n",
    "print(*sorted(data1), sep='\\n')"
   ]
  },
  {
   "cell_type": "code",
   "execution_count": 94,
   "id": "56ae4009-0682-4f35-893f-9e3b355527e7",
   "metadata": {},
   "outputs": [
    {
     "name": "stdout",
     "output_type": "stream",
     "text": [
      "test\n",
      "  Картинки\n",
      "    1.jpg 88 KB\n",
      "    avatar.png 19 KB\n",
      "    certificate.png 43 KB\n",
      "    py.png 33 KB\n",
      "    World_Time_Zones_Map.png 2 MB\n",
      "    Снимок экрана.png 11 KB\n",
      "  Неравенства.djvu 5 MB\n",
      "  Программы\n",
      "    image_util.py 5 KB\n",
      "    sort.py 61 B\n",
      "  Разные файлы\n",
      "    astros.json 505 B\n"
     ]
    }
   ],
   "source": [
    "from zipfile import ZipFile\n",
    "\n",
    "def spaces(name):\n",
    "    temp = list(filter(lambda x: x != '', name.split('/')))\n",
    "    return '  '*(len(temp)-1)+temp[-1]\n",
    "\n",
    "def convert(num):\n",
    "    if num > 1023: #KB\n",
    "        num = round(num / 1024)\n",
    "        if num > 1023: #MB\n",
    "            num = round(num / 1024)\n",
    "            if num > 1023: #GB\n",
    "                num = round(num / 1024)\n",
    "                return(str(num)+' GB')\n",
    "            else:\n",
    "                return(str(num)+' MB')\n",
    "        else:\n",
    "            return(str(num)+' KB')\n",
    "    else:\n",
    "        return(str(num)+' B')\n",
    "            \n",
    "with ZipFile('test.zip', mode='r') as arch:\n",
    "    info = arch.infolist()\n",
    "    for item in info:\n",
    "        if item.is_dir():\n",
    "            print(spaces(item.filename))\n",
    "        else:\n",
    "            print(spaces(item.filename), convert(item.file_size))"
   ]
  },
  {
   "cell_type": "code",
   "execution_count": null,
   "id": "0987ec84-7e5c-4143-a151-c33728cdf317",
   "metadata": {},
   "outputs": [],
   "source": []
  }
 ],
 "metadata": {
  "kernelspec": {
   "display_name": "Python 3 (ipykernel)",
   "language": "python",
   "name": "python3"
  },
  "language_info": {
   "codemirror_mode": {
    "name": "ipython",
    "version": 3
   },
   "file_extension": ".py",
   "mimetype": "text/x-python",
   "name": "python",
   "nbconvert_exporter": "python",
   "pygments_lexer": "ipython3",
   "version": "3.9.7"
  }
 },
 "nbformat": 4,
 "nbformat_minor": 5
}
