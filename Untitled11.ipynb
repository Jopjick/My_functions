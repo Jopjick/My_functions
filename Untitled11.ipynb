{
 "cells": [
  {
   "cell_type": "code",
   "execution_count": 3,
   "id": "8c0f0159-fc64-48a1-816d-3b52ae79c234",
   "metadata": {},
   "outputs": [
    {
     "name": "stdout",
     "output_type": "stream",
     "text": [
      "0.65 2.04 3.99\n"
     ]
    }
   ],
   "source": [
    "with open('dataset_26210_4.txt', 'r') as file:\n",
    "    data =  sorted([float(num) for num in file.read().strip().split(', ')])\n",
    "    print(data[0], data[2], data[6])"
   ]
  },
  {
   "cell_type": "code",
   "execution_count": 30,
   "id": "35bdcf17-786d-4a25-a6f6-bae16801d64b",
   "metadata": {},
   "outputs": [
    {
     "name": "stdout",
     "output_type": "stream",
     "text": [
      "0.000, 0.025, 0.200, 0.250, 0.375, 0.075, 0.075, 0.000\n"
     ]
    }
   ],
   "source": [
    "with open('dataset_26210_10.txt', 'r') as file:\n",
    "    data =  sorted([float(num) for num in file.read().strip().split(', ')])\n",
    "    data1 = data.copy()\n",
    "result = [0]\n",
    "start = 15\n",
    "while data1 != [] and start < 21:\n",
    "    if start < data1[0] <= start + 0.75:\n",
    "        result[-1] = result[-1] + 1\n",
    "    else:\n",
    "        start += 0.75\n",
    "        result.append(1)\n",
    "    data1 = data1[1:]\n",
    "if len(result) == 7:\n",
    "    result.append(0)\n",
    "n = len(data)\n",
    "result = map(lambda x: f'{x:1.3f}', list(map(lambda x: x/n, result)))\n",
    "print(*result, sep=', ')"
   ]
  },
  {
   "cell_type": "code",
   "execution_count": 44,
   "id": "ea6235c1-7814-41de-8273-6063ce9be5d0",
   "metadata": {},
   "outputs": [
    {
     "name": "stdout",
     "output_type": "stream",
     "text": [
      "20 21 21 21 21 22 22 22 23 23 24 25 25 28\n",
      "22.71, 4.35, 22.0, 21, 24\n"
     ]
    }
   ],
   "source": [
    "data = sorted([23, 24, 21, 23, 22, 21, 20, 21, 28, 25, 22, 22, 25, 21])\n",
    "n = len(data)\n",
    "av = round(sum(data)/n, 2)\n",
    "disp = round(sum(map(lambda x: (x - av)**2, data))/n, 2)\n",
    "print(*data)\n",
    "if n % 2 == 1:\n",
    "    med = sorted(data)[n // 2 - 1]\n",
    "else:\n",
    "    med = (sorted(data)[n // 2 - 1] + sorted(data)[n // 2])/2\n",
    "kva1, kva3 = round(data[n // 4], 2), round(data[(n * 3) // 4], 2)\n",
    "    \n",
    "print(av, disp, med, kva1, kva3, sep=', ')"
   ]
  },
  {
   "cell_type": "code",
   "execution_count": 51,
   "id": "e24752f7-9488-4a6e-be27-e0f38edb207e",
   "metadata": {},
   "outputs": [
    {
     "name": "stdout",
     "output_type": "stream",
     "text": [
      "0.858899001851592\n"
     ]
    }
   ],
   "source": [
    "data = [(170, 66), (182, 74),  (183, 77),  (180, 72), (175, 67), (181, 77), (187, 76), (181, 77), (178, 72), (187, 76)]\n",
    "\n",
    "data1, data2, n = [i[0] for i in data], [i[1] for i in data], len(data)\n",
    "av1, av2 = sum(data1)/len(data1), sum(data2)/len(data2)\n",
    "\n",
    "disp1, disp2 = (sum(map(lambda x: (x-av1)**2, data1))/n)**0.5, (sum(map(lambda x: (x-av2)**2, data2))/n)**0.5\n",
    "\n",
    "kor_k = sum(map(lambda x: x[0]*x[1] - av1*av2, data))/(disp1*disp2*n)\n",
    "print(kor_k)"
   ]
  },
  {
   "cell_type": "code",
   "execution_count": 73,
   "id": "6d5b91fe-dd64-45c0-878d-637351f5df49",
   "metadata": {},
   "outputs": [],
   "source": [
    "def disp(data, av):\n",
    "    return sum(map(lambda x: (x - av)**2, data))/len(data)\n",
    "\n",
    "def medi(data):\n",
    "    n = len(data)\n",
    "    data1 = sorted(data) \n",
    "    if n % 2 == 1:\n",
    "        return data1[n // 2]\n",
    "    else:\n",
    "        return (data1[n // 2] + data1[n // 2 + 1])/2"
   ]
  },
  {
   "cell_type": "code",
   "execution_count": 74,
   "id": "50a1e5cc-863a-4912-ac57-619586985a76",
   "metadata": {},
   "outputs": [
    {
     "name": "stdout",
     "output_type": "stream",
     "text": [
      "[3554, 3613, 3615, 3660, 3676, 3680, 3692, 3730, 3822, 3848, 3853, 3926, 3964, 4050, 4105, 4198, 4277, 4334, 4389, 4532, 4603, 4629, 4736, 4784, 4882, 4960, 5092, 5320, 5467, 5662, 5665, 5993, 6099, 6162, 6363, 6398, 6412, 6503, 6555, 6648, 6707, 6716, 6836, 6998, 7057] 45\n",
      "5017.0, 4736, 1345096.1\n"
     ]
    }
   ],
   "source": [
    "with open('13_6', 'r') as file:\n",
    "    data = file.readlines()\n",
    "    \n",
    "data = list(map(lambda x: [int(x[2]), int(x[3])], [item.strip().split('\\t') for item in data]))\n",
    "data_6, data_13, n = list(map(lambda x: x[0], data)), list(map(lambda x: x[1], data)), len(data)\n",
    "print(sorted(data_13), len(data_13))\n",
    "av_13, av_6 = sum(data_13)/n, sum(data_6)/n\n",
    "disp_13, disp_6 = disp(data_13, av_13), disp(data_6, av_6)\n",
    "medi_13, medi_6 = medi(data_13), medi(data_6) \n",
    "\n",
    "print(av_13, medi_13, round(disp_13, 1), sep=', ')"
   ]
  },
  {
   "cell_type": "code",
   "execution_count": 9,
   "id": "c46af4c2-99d0-418d-afce-6df1d91ad5fc",
   "metadata": {},
   "outputs": [
    {
     "name": "stdout",
     "output_type": "stream",
     "text": [
      "OrderedDict([('SeatsCount', '10'), ('Address', 'город Москва, переулок Сивцев Вражек, дом 6/2'), ('District', 'район Арбат'), ('AdmArea', 'Центральный административный округ'), ('TypeObject', 'кафе'), ('OperatingCompany', 'Брусника'), ('IsNetObject', 'да'), ('Name', 'Брусника')])\n"
     ]
    }
   ],
   "source": [
    "from collections import OrderedDict\n",
    "\n",
    "data = OrderedDict({'Name': 'Брусника', 'IsNetObject': 'да', 'OperatingCompany': 'Брусника', 'TypeObject': 'кафе', 'AdmArea': 'Центральный административный округ', 'District': 'район Арбат', 'Address': 'город Москва, переулок Сивцев Вражек, дом 6/2', 'SeatsCount': '10'})\n",
    "data1 = OrderedDict()\n",
    "for i in reversed(data):\n",
    "    data1[i] = data[i]\n",
    "print(data1)"
   ]
  },
  {
   "cell_type": "code",
   "execution_count": 13,
   "id": "b27675f7-f8d9-4d0f-813e-116bc337aeac",
   "metadata": {},
   "outputs": [
    {
     "name": "stdout",
     "output_type": "stream",
     "text": [
      "OrderedDict([('Name', 'Брусника'), ('SeatsCount', '10'), ('IsNetObject', 'да'), ('Address', 'город Москва, переулок Сивцев Вражек, дом 6/2'), ('OperatingCompany', 'Брусника'), ('District', 'район Арбат'), ('TypeObject', 'кафе'), ('AdmArea', 'Центральный административный округ')])\n"
     ]
    }
   ],
   "source": [
    "from collections import OrderedDict\n",
    "\n",
    "data = OrderedDict({'Name': 'Брусника', 'IsNetObject': 'да', 'OperatingCompany': 'Брусника', 'TypeObject': 'кафе',\n",
    "                    'AdmArea': 'Центральный административный округ', 'District': 'район Арбат', \n",
    "                    'Address': 'город Москва, переулок Сивцев Вражек, дом 6/2', 'SeatsCount': '10'})\n",
    "data1, flag = [], False\n",
    "for key in data.copy():\n",
    "    data1.append(data.popitem(last=flag))\n",
    "    flag = not flag\n",
    "data1 = OrderedDict(data1)\n",
    "print(data1)"
   ]
  },
  {
   "cell_type": "code",
   "execution_count": 20,
   "id": "a1a0efaf-bc73-47ff-a990-eb63ea750d4b",
   "metadata": {},
   "outputs": [
    {
     "name": "stdout",
     "output_type": "stream",
     "text": [
      "['24', 'Big Love', 'Boardwalk Empire', 'Boston Legal', 'Breaking Bad', 'CSI: Crime Scene Investigations', 'Damages', 'Deadwood', 'Dexter', 'Downton Abbey', 'ER', 'Friday Night Lights', 'Game of Thrones', \"Grey's Anatomy\", 'Heroes', 'Homeland', 'House', 'House of Cards', 'Joan of Arcadia', 'Law & Order', 'Lost', 'Six Feet Under', 'The Practice', 'The Sopranos', 'The West Wing', 'True Blood', 'True Detective']\n",
      "[2014, 2013, 2011, 2011, 2010, 2010, 2008, 2008, 2007, 2006, 2006, 2006, 2006, 2005, 2004, 2004, 2004, 2004, 2003, 2001, 2001, 2000, 1999, 1999, 1997, 1994, 1990]\n"
     ]
    }
   ],
   "source": [
    "from collections import OrderedDict\n",
    "\n",
    "data = OrderedDict({'Law & Order': 1990, 'The Practice': 1997, 'Six Feet Under': 2001, 'Joan of Arcadia': 2003,\n",
    "'The West Wing': 1999, 'Deadwood': 2004, 'The Sopranos': 1999, 'Boston Legal': 2004, 'ER': 1994, \n",
    "'Friday Night Lights': 2006, '24': 2001, 'Heroes': 2006, 'Lost': 2004, 'Dexter': 2006, 'Damages': 2007,\n",
    "'Big Love': 2006, 'House': 2004, 'Downton Abbey': 2010, \"Grey's Anatomy\": 2005, 'Homeland': 2011, 'Breaking Bad': 2008,\n",
    "'Game of Thrones': 2011,'CSI: Crime Scene Investigations': 2000, 'Boardwalk Empire': 2010, 'True Blood': 2008,\n",
    "'House of Cards': 2013, 'True Detective': 2014})\n",
    "\n",
    "data.sorted_keys = lambda reverse=False: sorted(data.keys(), reverse=reverse)\n",
    "data.sorted_values = lambda reverse=False: sorted(data.values(), reverse=reverse)\n"
   ]
  },
  {
   "cell_type": "code",
   "execution_count": 71,
   "id": "b17a9cb9-794a-4c6b-8cff-221dcd79233a",
   "metadata": {},
   "outputs": [],
   "source": [
    "from collections import OrderedDict\n",
    "def custom_sort(ordered_dict, by_values=False):\n",
    "    if by_values:\n",
    "        dict1 = sorted([(ordered_dict[key], key) for key in ordered_dict], key=lambda x: x[0])\n",
    "        for i in dict1:\n",
    "            ordered_dict.move_to_end(i[1])\n",
    "    else:\n",
    "        for key in sorted(ordered_dict):\n",
    "            ordered_dict.move_to_end(key)"
   ]
  },
  {
   "cell_type": "code",
   "execution_count": 28,
   "id": "1c5f00af-0277-4183-a613-ee8c30b4fbf4",
   "metadata": {},
   "outputs": [
    {
     "name": "stdout",
     "output_type": "stream",
     "text": [
      "OrderedDict([('Anabel', 17), ('Brian', 40), ('Carol', 16), ('Dustin', 29)])\n"
     ]
    }
   ],
   "source": [
    "data = OrderedDict(Dustin=29, Anabel=17, Brian=40, Carol=16)\n",
    "custom_sort(data)\n",
    "print(data)"
   ]
  },
  {
   "cell_type": "code",
   "execution_count": 36,
   "id": "26e141d7-c66c-42e8-8f9d-7c94d0bcb26d",
   "metadata": {},
   "outputs": [
    {
     "name": "stdout",
     "output_type": "stream",
     "text": [
      "('Mercury', 1) ('Venus', 2) ('Earth', 3) ('Mars', 4)\n"
     ]
    }
   ],
   "source": [
    "data = OrderedDict(Earth=3, Mercury=1, Mars=4, Venus=2)\n",
    "custom_sort(data, by_values=True)\n",
    "\n",
    "print(*data.items())"
   ]
  },
  {
   "cell_type": "code",
   "execution_count": 73,
   "id": "62d471c7-54df-4950-9386-40ab2cc7a157",
   "metadata": {},
   "outputs": [
    {
     "name": "stdout",
     "output_type": "stream",
     "text": [
      "OrderedDict([('e', 11), ('b', 22), ('d', 33), ('c', 44), ('g', 66), ('f', 77), ('i', 88), ('a', 99), ('h', 99)])\n"
     ]
    }
   ],
   "source": [
    "data = OrderedDict(a=99, b=22, c=44, d=33, e=11, f=77, g=66, h=99, i=88)\n",
    "custom_sort(data, by_values=True)\n",
    "print(data)"
   ]
  },
  {
   "cell_type": "code",
   "execution_count": null,
   "id": "11953de4-5a18-4968-a5bc-58e16cfcae93",
   "metadata": {},
   "outputs": [],
   "source": []
  }
 ],
 "metadata": {
  "kernelspec": {
   "display_name": "Python 3 (ipykernel)",
   "language": "python",
   "name": "python3"
  },
  "language_info": {
   "codemirror_mode": {
    "name": "ipython",
    "version": 3
   },
   "file_extension": ".py",
   "mimetype": "text/x-python",
   "name": "python",
   "nbconvert_exporter": "python",
   "pygments_lexer": "ipython3",
   "version": "3.9.7"
  }
 },
 "nbformat": 4,
 "nbformat_minor": 5
}
