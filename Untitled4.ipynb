{
 "cells": [
  {
   "cell_type": "code",
   "execution_count": 22,
   "id": "bbdc569c-8757-4c75-ac49-3deed7bfb90a",
   "metadata": {},
   "outputs": [],
   "source": [
    "def is_available_date(booked_dates, date_for_booking):\n",
    "    from datetime import datetime\n",
    "    \n",
    "    def convert(dat):\n",
    "        if '-'not in dat:\n",
    "            return datetime.strptime(dat, '%d.%m.%Y')\n",
    "        else:\n",
    "            return [datetime.strptime(item, '%d.%m.%Y') for item in dat.split('-')]\n",
    "        \n",
    "    def is_date_booked(item, dat):\n",
    "        #Дата бронирования - несколько дней\n",
    "        if type(dat) == list:\n",
    "            #Занятая дата - несколько дней\n",
    "            if type(item) == list:\n",
    "                return item[1] < dat[0] or item[0] > dat[1]\n",
    "            #Занятая дата - 1 день\n",
    "            else:\n",
    "                return not(dat[0] <= item <= dat[1] )\n",
    "        #Дата бронирования - 1 день    \n",
    "        else:\n",
    "            #Занятая дата - несколько дней\n",
    "            if type(item) == list:\n",
    "                return not (item[0] <= dat <= item[1])\n",
    "            #Занятая дата - 1 день\n",
    "            else:\n",
    "                return dat != item\n",
    "        \n",
    "    date_for_booking = convert(date_for_booking)\n",
    "    return all(list(map(lambda x: is_date_booked(x, date_for_booking), [convert(item) for item in booked_dates])))"
   ]
  },
  {
   "cell_type": "code",
   "execution_count": 23,
   "id": "4e2c71c1-4ff5-4f27-9532-3b3a56bdf7b2",
   "metadata": {},
   "outputs": [
    {
     "name": "stdout",
     "output_type": "stream",
     "text": [
      "False\n"
     ]
    }
   ],
   "source": [
    "dates = ['04.11.2021', '05.11.2021-09.11.2021']\n",
    "some_date = '01.11.2021-04.11.2021'\n",
    "print(is_available_date(dates, some_date))"
   ]
  },
  {
   "cell_type": "code",
   "execution_count": 5,
   "id": "d1001717-8ee5-45c2-bc88-f04b59ec5ab1",
   "metadata": {},
   "outputs": [],
   "source": [
    "def Ceaser_ru(text, n):\n",
    "    const_upper_ru = 'АБВГДЕЖЗИЙКЛМНОПРСТУФХЦЧШЩЪЫЬЭЮЯАБВГДЕЖЗИЙКЛМНОПРСТУФХЦЧШЩЪЫЬЭЮЯ'\n",
    "    const_lower_ru = 'абвгдежзийклмнопрстуфхцчшщъыьэюяабвгдежзийклмнопрстуфхцчшщъыьэюя'\n",
    "    res = ''\n",
    "    for i in text:\n",
    "        if i.isalpha():\n",
    "            if i == i.upper():\n",
    "                res += const_upper_ru[(const_upper_ru.index(i)+ n) % 32]\n",
    "            else:\n",
    "                res += const_lower_ru[(const_lower_ru.index(i)+ n) % 32]\n",
    "        else: \n",
    "            res += i\n",
    "    return res\n",
    "\n",
    "def Ceaser_eng(text, n):\n",
    "    const_upper_en = 'ABCDEFGHIJKLMNOPQRSTUVWXYZ' \n",
    "    const_lower_en = 'abcdefghijklmnopqrstuvwxyz'\n",
    "    res = ''\n",
    "    for i in text:\n",
    "        if i.isalpha():\n",
    "            if i == i.upper():\n",
    "                res += const_upper_en[(const_upper_en.index(i)+ n) % 26]\n",
    "            else:\n",
    "                res += const_lower_en[(const_lower_en.index(i)+ n) % 26]\n",
    "        else: \n",
    "            res += i\n",
    "    return res"
   ]
  },
  {
   "cell_type": "code",
   "execution_count": 44,
   "id": "7bea9148-7bab-47a7-b166-3e9c2254e76b",
   "metadata": {},
   "outputs": [
    {
     "name": "stdout",
     "output_type": "stream",
     "text": [
      "Лхкрпч, фьш мпъэпь, ьпщхш пцэ чк ымпьп!\n",
      "Kf sv, fi efk kf sv, kyrk zj kyv hlvjkzfe!\n",
      "Скупой теряет все, желая все достать.\n",
      "The grass is always greener on the other side of the fence.\n"
     ]
    }
   ],
   "source": [
    "print(Ceaser_ru('Блажен, кто верует, тепло ему на свете!', 10))\n",
    "print(Ceaser_eng('To be, or not to be, that is the question!', 17))\n",
    "print(Ceaser_ru('Шсъцхр щмчжмщ йшм, нмтзж йшм лхшщзщг.', -7))\n",
    "print(Ceaser_eng('Sgd fqzrr hr zkvzxr fqddmdq nm sgd nsgdq rhcd ne sgd edmbd.', -25))"
   ]
  },
  {
   "cell_type": "code",
   "execution_count": 43,
   "id": "ec176012-84a1-41bc-a149-47aab2000e3c",
   "metadata": {},
   "outputs": [
    {
     "name": "stdout",
     "output_type": "stream",
     "text": [
      "Ibxok ql txih ybclob vlr ork.\n",
      "Jcypl rm uyji zcdmpc wms psl.\n",
      "Kdzqm sn vzkj adenqd xnt qtm.\n",
      "Learn to walk before you run.\n",
      "Mfbso up xbml cfgpsf zpv svo.\n",
      "Ngctp vq ycnm dghqtg aqw twp.\n",
      "Ohduq wr zdon ehiruh brx uxq.\n",
      "Pievr xs aepo fijsvi csy vyr.\n",
      "Qjfws yt bfqp gjktwj dtz wzs.\n"
     ]
    }
   ],
   "source": [
    "for n in range(1, 10):\n",
    "    print(Ceaser_eng(\"Hawnj pk swhg xabkna ukq nqj.\", n))"
   ]
  },
  {
   "cell_type": "code",
   "execution_count": 7,
   "id": "caf4364c-6ef9-4f0b-8f93-06f57d074c7d",
   "metadata": {},
   "outputs": [
    {
     "name": "stdin",
     "output_type": "stream",
     "text": [
      " Gdb, qmgi. \"Ciev\" ku b tpzahrl! \n"
     ]
    },
    {
     "name": "stdout",
     "output_type": "stream",
     "text": [
      "Jge, uqkm. \"Gmiz\" mw c awghoys!\n"
     ]
    }
   ],
   "source": [
    "text = input().split()\n",
    "res = []\n",
    "for word in text:\n",
    "    temp = ''\n",
    "    for i in word:\n",
    "        if i.isalpha():\n",
    "            temp += i\n",
    "    res.append(Ceaser_eng(word, len(temp)))\n",
    "print(*res)"
   ]
  },
  {
   "cell_type": "code",
   "execution_count": 8,
   "id": "10d67490-e6b3-48ca-b331-265da25f7ef9",
   "metadata": {},
   "outputs": [
    {
     "name": "stdout",
     "output_type": "stream",
     "text": [
      "12.11.2021 01:06:00\n"
     ]
    }
   ],
   "source": [
    "from datetime import datetime, timedelta\n",
    "\n",
    "dt = datetime(2021, 11, 4, 13, 6) + timedelta(weeks=1, hours=12)\n",
    "\n",
    "print(dt.strftime('%d.%m.%Y %H:%M:%S'))"
   ]
  },
  {
   "cell_type": "code",
   "execution_count": 9,
   "id": "0e09a0ca-134e-4541-a2b1-f5d2c352b353",
   "metadata": {},
   "outputs": [
    {
     "name": "stdout",
     "output_type": "stream",
     "text": [
      "336\n"
     ]
    }
   ],
   "source": [
    "from datetime import date, timedelta\n",
    "\n",
    "today = date(2021, 11, 4)\n",
    "birthday = date(2022, 10, 6)\n",
    "\n",
    "days = (birthday - today).days\n",
    "\n",
    "print(days)"
   ]
  },
  {
   "cell_type": "code",
   "execution_count": 17,
   "id": "3f2b8be4-f2ec-4b9c-b786-18263fe66529",
   "metadata": {},
   "outputs": [
    {
     "name": "stdin",
     "output_type": "stream",
     "text": [
      " 04.10.2021\n"
     ]
    },
    {
     "name": "stdout",
     "output_type": "stream",
     "text": [
      "03.10.2021\n",
      "05.10.2021\n"
     ]
    }
   ],
   "source": [
    "from datetime import datetime, timedelta\n",
    "dat = datetime.strptime(input(), '%d.%m.%Y')\n",
    "day = timedelta(days=1)\n",
    "print((dat - day).strftime('%d.%m.%Y'))\n",
    "print((dat + day).strftime('%d.%m.%Y'))"
   ]
  },
  {
   "cell_type": "code",
   "execution_count": 2,
   "id": "c42e35df-28c8-49e8-b4db-6080f9d06502",
   "metadata": {},
   "outputs": [
    {
     "name": "stdout",
     "output_type": "stream",
     "text": [
      "545\n"
     ]
    }
   ],
   "source": [
    "from datetime import date, time, datetime, timedelta\n",
    "\n",
    "data = [('07:14', '08:46'),\n",
    "        ('09:01', '09:37'),\n",
    "        ('10:00', '11:43'),\n",
    "        ('12:13', '13:49'),\n",
    "        ('15:00', '15:19'),\n",
    "        ('15:58', '17:24'),\n",
    "        ('17:57', '19:21'),\n",
    "        ('19:30', '19:59')]\n",
    "temp = datetime.strptime(data[0][1], '%H:%M') - datetime.strptime(data[0][0], '%H:%M')\n",
    "for item in data[1:]:\n",
    "    temp += datetime.strptime(item[1], '%H:%M') - datetime.strptime(item[0], '%H:%M')\n",
    "print(int(temp.total_seconds() / 60))"
   ]
  },
  {
   "cell_type": "code",
   "execution_count": 14,
   "id": "95bb25a6-8224-4bcc-8624-53d389332fd1",
   "metadata": {},
   "outputs": [],
   "source": [
    "from datetime import datetime, timedelta\n",
    "\n",
    "start, end = datetime(1, 1, 1), datetime(9999, 12, 31)\n",
    "temp, week = start, {0: 0, 1: 0, 2: 0, 3: 0, 4: 0, 5: 0, 6: 0}\n",
    "\n",
    "while temp <= end - timedelta(days=1):\n",
    "    if temp.day == 13:\n",
    "        week[temp.weekday()] = week[temp.weekday()] + 1\n",
    "    temp = temp + timedelta(days=1)\n",
    "print(*[week[i] for i in week], sep='\\n')    "
   ]
  },
  {
   "cell_type": "code",
   "execution_count": 15,
   "id": "6ad4ecaf-44e4-4a4b-bf8d-dfba531f325f",
   "metadata": {},
   "outputs": [
    {
     "name": "stdout",
     "output_type": "stream",
     "text": [
      "17123\n",
      "17124\n",
      "17173\n",
      "17097\n",
      "17199\n",
      "17099\n",
      "17173\n"
     ]
    }
   ],
   "source": [
    "print(*[week[i] for i in week], sep='\\n')"
   ]
  },
  {
   "cell_type": "code",
   "execution_count": null,
   "id": "1d1cc215-e6d1-421e-acad-05353a70b07c",
   "metadata": {},
   "outputs": [],
   "source": []
  }
 ],
 "metadata": {
  "kernelspec": {
   "display_name": "Python 3 (ipykernel)",
   "language": "python",
   "name": "python3"
  },
  "language_info": {
   "codemirror_mode": {
    "name": "ipython",
    "version": 3
   },
   "file_extension": ".py",
   "mimetype": "text/x-python",
   "name": "python",
   "nbconvert_exporter": "python",
   "pygments_lexer": "ipython3",
   "version": "3.9.7"
  }
 },
 "nbformat": 4,
 "nbformat_minor": 5
}
